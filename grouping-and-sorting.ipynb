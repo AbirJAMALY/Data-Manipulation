{
 "cells": [
  {
   "cell_type": "markdown",
   "id": "e9420611",
   "metadata": {
    "papermill": {
     "duration": 0.008534,
     "end_time": "2023-06-08T13:52:12.013754",
     "exception": false,
     "start_time": "2023-06-08T13:52:12.005220",
     "status": "completed"
    },
    "tags": []
   },
   "source": [
    "**This notebook is an exercise in the [Pandas](https://www.kaggle.com/learn/pandas) course.  You can reference the tutorial at [this link](https://www.kaggle.com/residentmario/grouping-and-sorting).**\n",
    "\n",
    "---\n"
   ]
  },
  {
   "cell_type": "markdown",
   "id": "7b3f3ba4",
   "metadata": {
    "papermill": {
     "duration": 0.007348,
     "end_time": "2023-06-08T13:52:12.029639",
     "exception": false,
     "start_time": "2023-06-08T13:52:12.022291",
     "status": "completed"
    },
    "tags": []
   },
   "source": [
    "# Introduction\n",
    "\n",
    "In these exercises we'll apply groupwise analysis to our dataset.\n",
    "\n",
    "Run the code cell below to load the data before running the exercises."
   ]
  },
  {
   "cell_type": "code",
   "execution_count": 1,
   "id": "3c6c47d7",
   "metadata": {
    "execution": {
     "iopub.execute_input": "2023-06-08T13:52:12.046538Z",
     "iopub.status.busy": "2023-06-08T13:52:12.046105Z",
     "iopub.status.idle": "2023-06-08T13:52:15.935785Z",
     "shell.execute_reply": "2023-06-08T13:52:15.934450Z"
    },
    "papermill": {
     "duration": 3.9023,
     "end_time": "2023-06-08T13:52:15.939460",
     "exception": false,
     "start_time": "2023-06-08T13:52:12.037160",
     "status": "completed"
    },
    "tags": []
   },
   "outputs": [
    {
     "name": "stdout",
     "output_type": "stream",
     "text": [
      "Setup complete.\n"
     ]
    }
   ],
   "source": [
    "import pandas as pd\n",
    "\n",
    "reviews = pd.read_csv(\"../input/wine-reviews/winemag-data-130k-v2.csv\", index_col=0)\n",
    "#pd.set_option(\"display.max_rows\", 5)\n",
    "\n",
    "from learntools.core import binder; binder.bind(globals())\n",
    "from learntools.pandas.grouping_and_sorting import *\n",
    "print(\"Setup complete.\")"
   ]
  },
  {
   "cell_type": "markdown",
   "id": "0eeaf71e",
   "metadata": {
    "papermill": {
     "duration": 0.008017,
     "end_time": "2023-06-08T13:52:15.956454",
     "exception": false,
     "start_time": "2023-06-08T13:52:15.948437",
     "status": "completed"
    },
    "tags": []
   },
   "source": [
    "# Exercises"
   ]
  },
  {
   "cell_type": "markdown",
   "id": "2170a2c4",
   "metadata": {
    "papermill": {
     "duration": 0.009751,
     "end_time": "2023-06-08T13:52:15.974305",
     "exception": false,
     "start_time": "2023-06-08T13:52:15.964554",
     "status": "completed"
    },
    "tags": []
   },
   "source": [
    "## 1.\n",
    "Who are the most common wine reviewers in the dataset? Create a `Series` whose index is the `taster_twitter_handle` category from the dataset, and whose values count how many reviews each person wrote."
   ]
  },
  {
   "cell_type": "code",
   "execution_count": 2,
   "id": "931aa9d8",
   "metadata": {
    "execution": {
     "iopub.execute_input": "2023-06-08T13:52:15.993389Z",
     "iopub.status.busy": "2023-06-08T13:52:15.992641Z",
     "iopub.status.idle": "2023-06-08T13:52:16.040754Z",
     "shell.execute_reply": "2023-06-08T13:52:16.039587Z"
    },
    "papermill": {
     "duration": 0.060923,
     "end_time": "2023-06-08T13:52:16.043515",
     "exception": false,
     "start_time": "2023-06-08T13:52:15.982592",
     "status": "completed"
    },
    "tags": []
   },
   "outputs": [
    {
     "data": {
      "application/javascript": [
       "parent.postMessage({\"jupyterEvent\": \"custom.exercise_interaction\", \"data\": {\"outcomeType\": 1, \"valueTowardsCompletion\": 0.16666666666666666, \"interactionType\": 1, \"questionType\": 1, \"questionId\": \"1_ReviewsWritten\", \"learnToolsVersion\": \"0.3.4\", \"failureMessage\": \"\", \"exceptionClass\": \"\", \"trace\": \"\"}}, \"*\")"
      ],
      "text/plain": [
       "<IPython.core.display.Javascript object>"
      ]
     },
     "metadata": {},
     "output_type": "display_data"
    },
    {
     "data": {
      "text/markdown": [
       "<span style=\"color:#33cc33\">Correct:</span> \n",
       "\n",
       "\n",
       "```python\n",
       "reviews_written = reviews.groupby('taster_twitter_handle').size()\n",
       "```\n",
       "or\n",
       "```python\n",
       "reviews_written = reviews.groupby('taster_twitter_handle').taster_twitter_handle.count()\n",
       "```\n"
      ],
      "text/plain": [
       "Correct: \n",
       "\n",
       "\n",
       "```python\n",
       "reviews_written = reviews.groupby('taster_twitter_handle').size()\n",
       "```\n",
       "or\n",
       "```python\n",
       "reviews_written = reviews.groupby('taster_twitter_handle').taster_twitter_handle.count()\n",
       "```"
      ]
     },
     "metadata": {},
     "output_type": "display_data"
    }
   ],
   "source": [
    "# Your code here\n",
    "reviews_written = reviews.groupby('taster_twitter_handle').taster_twitter_handle.count()\n",
    "\n",
    "# Check your answer\n",
    "q1.check()"
   ]
  },
  {
   "cell_type": "code",
   "execution_count": 3,
   "id": "3dd01832",
   "metadata": {
    "execution": {
     "iopub.execute_input": "2023-06-08T13:52:16.063056Z",
     "iopub.status.busy": "2023-06-08T13:52:16.062568Z",
     "iopub.status.idle": "2023-06-08T13:52:16.073317Z",
     "shell.execute_reply": "2023-06-08T13:52:16.071818Z"
    },
    "papermill": {
     "duration": 0.024373,
     "end_time": "2023-06-08T13:52:16.076505",
     "exception": false,
     "start_time": "2023-06-08T13:52:16.052132",
     "status": "completed"
    },
    "tags": []
   },
   "outputs": [
    {
     "data": {
      "application/javascript": [
       "parent.postMessage({\"jupyterEvent\": \"custom.exercise_interaction\", \"data\": {\"interactionType\": 3, \"questionType\": 1, \"questionId\": \"1_ReviewsWritten\", \"learnToolsVersion\": \"0.3.4\", \"valueTowardsCompletion\": 0.0, \"failureMessage\": \"\", \"exceptionClass\": \"\", \"trace\": \"\", \"outcomeType\": 4}}, \"*\")"
      ],
      "text/plain": [
       "<IPython.core.display.Javascript object>"
      ]
     },
     "metadata": {},
     "output_type": "display_data"
    },
    {
     "data": {
      "text/markdown": [
       "<span style=\"color:#33cc99\">Solution:</span> \n",
       "```python\n",
       "reviews_written = reviews.groupby('taster_twitter_handle').size()\n",
       "```\n",
       "or\n",
       "```python\n",
       "reviews_written = reviews.groupby('taster_twitter_handle').taster_twitter_handle.count()\n",
       "```\n"
      ],
      "text/plain": [
       "Solution: \n",
       "```python\n",
       "reviews_written = reviews.groupby('taster_twitter_handle').size()\n",
       "```\n",
       "or\n",
       "```python\n",
       "reviews_written = reviews.groupby('taster_twitter_handle').taster_twitter_handle.count()\n",
       "```"
      ]
     },
     "metadata": {},
     "output_type": "display_data"
    }
   ],
   "source": [
    "#q1.hint()\n",
    "q1.solution()"
   ]
  },
  {
   "cell_type": "markdown",
   "id": "90109f3b",
   "metadata": {
    "papermill": {
     "duration": 0.009019,
     "end_time": "2023-06-08T13:52:16.094543",
     "exception": false,
     "start_time": "2023-06-08T13:52:16.085524",
     "status": "completed"
    },
    "tags": []
   },
   "source": [
    "## 2.\n",
    "What is the best wine I can buy for a given amount of money? Create a `Series` whose index is wine prices and whose values is the maximum number of points a wine costing that much was given in a review. Sort the values by price, ascending (so that `4.0` dollars is at the top and `3300.0` dollars is at the bottom)."
   ]
  },
  {
   "cell_type": "code",
   "execution_count": 4,
   "id": "a4207c58",
   "metadata": {
    "execution": {
     "iopub.execute_input": "2023-06-08T13:52:16.114921Z",
     "iopub.status.busy": "2023-06-08T13:52:16.114420Z",
     "iopub.status.idle": "2023-06-08T13:52:16.131128Z",
     "shell.execute_reply": "2023-06-08T13:52:16.129708Z"
    },
    "papermill": {
     "duration": 0.030165,
     "end_time": "2023-06-08T13:52:16.133743",
     "exception": false,
     "start_time": "2023-06-08T13:52:16.103578",
     "status": "completed"
    },
    "tags": []
   },
   "outputs": [
    {
     "data": {
      "application/javascript": [
       "parent.postMessage({\"jupyterEvent\": \"custom.exercise_interaction\", \"data\": {\"outcomeType\": 1, \"valueTowardsCompletion\": 0.16666666666666666, \"interactionType\": 1, \"questionType\": 1, \"questionId\": \"2_BestRatingPerPrice\", \"learnToolsVersion\": \"0.3.4\", \"failureMessage\": \"\", \"exceptionClass\": \"\", \"trace\": \"\"}}, \"*\")"
      ],
      "text/plain": [
       "<IPython.core.display.Javascript object>"
      ]
     },
     "metadata": {},
     "output_type": "display_data"
    },
    {
     "data": {
      "text/markdown": [
       "<span style=\"color:#33cc33\">Correct</span>"
      ],
      "text/plain": [
       "Correct"
      ]
     },
     "metadata": {},
     "output_type": "display_data"
    }
   ],
   "source": [
    "best_rating_per_price =reviews.groupby('price')['points'].max().sort_index()\n",
    "\n",
    "# Check your answer\n",
    "q2.check()"
   ]
  },
  {
   "cell_type": "code",
   "execution_count": 5,
   "id": "1d8217be",
   "metadata": {
    "execution": {
     "iopub.execute_input": "2023-06-08T13:52:16.153970Z",
     "iopub.status.busy": "2023-06-08T13:52:16.153492Z",
     "iopub.status.idle": "2023-06-08T13:52:16.158870Z",
     "shell.execute_reply": "2023-06-08T13:52:16.157559Z"
    },
    "papermill": {
     "duration": 0.019013,
     "end_time": "2023-06-08T13:52:16.161597",
     "exception": false,
     "start_time": "2023-06-08T13:52:16.142584",
     "status": "completed"
    },
    "tags": []
   },
   "outputs": [],
   "source": [
    "#q2.hint()\n",
    "#q2.solution()"
   ]
  },
  {
   "cell_type": "markdown",
   "id": "4b2d6217",
   "metadata": {
    "papermill": {
     "duration": 0.008759,
     "end_time": "2023-06-08T13:52:16.179674",
     "exception": false,
     "start_time": "2023-06-08T13:52:16.170915",
     "status": "completed"
    },
    "tags": []
   },
   "source": [
    "## 3.\n",
    "What are the minimum and maximum prices for each `variety` of wine? Create a `DataFrame` whose index is the `variety` category from the dataset and whose values are the `min` and `max` values thereof."
   ]
  },
  {
   "cell_type": "code",
   "execution_count": 6,
   "id": "04105f54",
   "metadata": {
    "execution": {
     "iopub.execute_input": "2023-06-08T13:52:16.202040Z",
     "iopub.status.busy": "2023-06-08T13:52:16.201207Z",
     "iopub.status.idle": "2023-06-08T13:52:16.244198Z",
     "shell.execute_reply": "2023-06-08T13:52:16.243142Z"
    },
    "papermill": {
     "duration": 0.056378,
     "end_time": "2023-06-08T13:52:16.246615",
     "exception": false,
     "start_time": "2023-06-08T13:52:16.190237",
     "status": "completed"
    },
    "tags": []
   },
   "outputs": [
    {
     "data": {
      "application/javascript": [
       "parent.postMessage({\"jupyterEvent\": \"custom.exercise_interaction\", \"data\": {\"outcomeType\": 1, \"valueTowardsCompletion\": 0.16666666666666666, \"interactionType\": 1, \"questionType\": 1, \"questionId\": \"3_PriceExtremes\", \"learnToolsVersion\": \"0.3.4\", \"failureMessage\": \"\", \"exceptionClass\": \"\", \"trace\": \"\"}}, \"*\")"
      ],
      "text/plain": [
       "<IPython.core.display.Javascript object>"
      ]
     },
     "metadata": {},
     "output_type": "display_data"
    },
    {
     "data": {
      "text/markdown": [
       "<span style=\"color:#33cc33\">Correct</span>"
      ],
      "text/plain": [
       "Correct"
      ]
     },
     "metadata": {},
     "output_type": "display_data"
    }
   ],
   "source": [
    "price_extremes = reviews.groupby('variety').price.agg([min, max])\n",
    "\n",
    "# Check your answer\n",
    "q3.check()"
   ]
  },
  {
   "cell_type": "code",
   "execution_count": 7,
   "id": "fbaf9f30",
   "metadata": {
    "execution": {
     "iopub.execute_input": "2023-06-08T13:52:16.267886Z",
     "iopub.status.busy": "2023-06-08T13:52:16.267092Z",
     "iopub.status.idle": "2023-06-08T13:52:16.271268Z",
     "shell.execute_reply": "2023-06-08T13:52:16.270353Z"
    },
    "papermill": {
     "duration": 0.017774,
     "end_time": "2023-06-08T13:52:16.273615",
     "exception": false,
     "start_time": "2023-06-08T13:52:16.255841",
     "status": "completed"
    },
    "tags": []
   },
   "outputs": [],
   "source": [
    "#q3.hint()\n",
    "#q3.solution()"
   ]
  },
  {
   "cell_type": "markdown",
   "id": "513873e4",
   "metadata": {
    "papermill": {
     "duration": 0.009455,
     "end_time": "2023-06-08T13:52:16.292385",
     "exception": false,
     "start_time": "2023-06-08T13:52:16.282930",
     "status": "completed"
    },
    "tags": []
   },
   "source": [
    "## 4.\n",
    "What are the most expensive wine varieties? Create a variable `sorted_varieties` containing a copy of the dataframe from the previous question where varieties are sorted in descending order based on minimum price, then on maximum price (to break ties)."
   ]
  },
  {
   "cell_type": "code",
   "execution_count": 8,
   "id": "54308531",
   "metadata": {
    "execution": {
     "iopub.execute_input": "2023-06-08T13:52:16.313672Z",
     "iopub.status.busy": "2023-06-08T13:52:16.312941Z",
     "iopub.status.idle": "2023-06-08T13:52:16.326576Z",
     "shell.execute_reply": "2023-06-08T13:52:16.325307Z"
    },
    "papermill": {
     "duration": 0.027633,
     "end_time": "2023-06-08T13:52:16.329172",
     "exception": false,
     "start_time": "2023-06-08T13:52:16.301539",
     "status": "completed"
    },
    "tags": []
   },
   "outputs": [
    {
     "data": {
      "application/javascript": [
       "parent.postMessage({\"jupyterEvent\": \"custom.exercise_interaction\", \"data\": {\"outcomeType\": 1, \"valueTowardsCompletion\": 0.16666666666666666, \"interactionType\": 1, \"questionType\": 1, \"questionId\": \"4_SortedVarieties\", \"learnToolsVersion\": \"0.3.4\", \"failureMessage\": \"\", \"exceptionClass\": \"\", \"trace\": \"\"}}, \"*\")"
      ],
      "text/plain": [
       "<IPython.core.display.Javascript object>"
      ]
     },
     "metadata": {},
     "output_type": "display_data"
    },
    {
     "data": {
      "text/markdown": [
       "<span style=\"color:#33cc33\">Correct</span>"
      ],
      "text/plain": [
       "Correct"
      ]
     },
     "metadata": {},
     "output_type": "display_data"
    }
   ],
   "source": [
    "sorted_varieties = price_extremes.sort_values(by=['min', 'max'], ascending=False)\n",
    "\n",
    "# Check your answer\n",
    "q4.check()"
   ]
  },
  {
   "cell_type": "code",
   "execution_count": 9,
   "id": "00762cdd",
   "metadata": {
    "execution": {
     "iopub.execute_input": "2023-06-08T13:52:16.351666Z",
     "iopub.status.busy": "2023-06-08T13:52:16.351089Z",
     "iopub.status.idle": "2023-06-08T13:52:16.355910Z",
     "shell.execute_reply": "2023-06-08T13:52:16.354658Z"
    },
    "papermill": {
     "duration": 0.018958,
     "end_time": "2023-06-08T13:52:16.358426",
     "exception": false,
     "start_time": "2023-06-08T13:52:16.339468",
     "status": "completed"
    },
    "tags": []
   },
   "outputs": [],
   "source": [
    "#q4.hint()\n",
    "#q4.solution()"
   ]
  },
  {
   "cell_type": "markdown",
   "id": "511fa6bb",
   "metadata": {
    "papermill": {
     "duration": 0.009468,
     "end_time": "2023-06-08T13:52:16.377669",
     "exception": false,
     "start_time": "2023-06-08T13:52:16.368201",
     "status": "completed"
    },
    "tags": []
   },
   "source": [
    "## 5.\n",
    "Create a `Series` whose index is reviewers and whose values is the average review score given out by that reviewer. Hint: you will need the `taster_name` and `points` columns."
   ]
  },
  {
   "cell_type": "code",
   "execution_count": 10,
   "id": "7a689ef7",
   "metadata": {
    "execution": {
     "iopub.execute_input": "2023-06-08T13:52:16.400322Z",
     "iopub.status.busy": "2023-06-08T13:52:16.399101Z",
     "iopub.status.idle": "2023-06-08T13:52:16.434653Z",
     "shell.execute_reply": "2023-06-08T13:52:16.433812Z"
    },
    "papermill": {
     "duration": 0.049275,
     "end_time": "2023-06-08T13:52:16.436885",
     "exception": false,
     "start_time": "2023-06-08T13:52:16.387610",
     "status": "completed"
    },
    "tags": []
   },
   "outputs": [
    {
     "data": {
      "application/javascript": [
       "parent.postMessage({\"jupyterEvent\": \"custom.exercise_interaction\", \"data\": {\"outcomeType\": 1, \"valueTowardsCompletion\": 0.16666666666666666, \"interactionType\": 1, \"questionType\": 1, \"questionId\": \"5_ReviewerMeanRatings\", \"learnToolsVersion\": \"0.3.4\", \"failureMessage\": \"\", \"exceptionClass\": \"\", \"trace\": \"\"}}, \"*\")"
      ],
      "text/plain": [
       "<IPython.core.display.Javascript object>"
      ]
     },
     "metadata": {},
     "output_type": "display_data"
    },
    {
     "data": {
      "text/markdown": [
       "<span style=\"color:#33cc33\">Correct</span>"
      ],
      "text/plain": [
       "Correct"
      ]
     },
     "metadata": {},
     "output_type": "display_data"
    }
   ],
   "source": [
    "reviewer_mean_ratings = reviews.groupby('taster_name').points.mean()\n",
    "\n",
    "# Check your answer\n",
    "q5.check()"
   ]
  },
  {
   "cell_type": "code",
   "execution_count": 11,
   "id": "1b72a6b3",
   "metadata": {
    "execution": {
     "iopub.execute_input": "2023-06-08T13:52:16.458842Z",
     "iopub.status.busy": "2023-06-08T13:52:16.457939Z",
     "iopub.status.idle": "2023-06-08T13:52:16.463313Z",
     "shell.execute_reply": "2023-06-08T13:52:16.462043Z"
    },
    "papermill": {
     "duration": 0.019064,
     "end_time": "2023-06-08T13:52:16.465733",
     "exception": false,
     "start_time": "2023-06-08T13:52:16.446669",
     "status": "completed"
    },
    "tags": []
   },
   "outputs": [],
   "source": [
    "#q5.hint()\n",
    "#q5.solution()"
   ]
  },
  {
   "cell_type": "markdown",
   "id": "61bf5571",
   "metadata": {
    "papermill": {
     "duration": 0.009527,
     "end_time": "2023-06-08T13:52:16.485209",
     "exception": false,
     "start_time": "2023-06-08T13:52:16.475682",
     "status": "completed"
    },
    "tags": []
   },
   "source": [
    "Are there significant differences in the average scores assigned by the various reviewers? Run the cell below to use the `describe()` method to see a summary of the range of values."
   ]
  },
  {
   "cell_type": "code",
   "execution_count": 12,
   "id": "74943b01",
   "metadata": {
    "execution": {
     "iopub.execute_input": "2023-06-08T13:52:16.507988Z",
     "iopub.status.busy": "2023-06-08T13:52:16.507206Z",
     "iopub.status.idle": "2023-06-08T13:52:16.523907Z",
     "shell.execute_reply": "2023-06-08T13:52:16.522851Z"
    },
    "papermill": {
     "duration": 0.031536,
     "end_time": "2023-06-08T13:52:16.526492",
     "exception": false,
     "start_time": "2023-06-08T13:52:16.494956",
     "status": "completed"
    },
    "tags": []
   },
   "outputs": [
    {
     "data": {
      "text/plain": [
       "count    19.000000\n",
       "mean     88.233026\n",
       "std       1.243610\n",
       "min      85.855422\n",
       "25%      87.323501\n",
       "50%      88.536235\n",
       "75%      88.975256\n",
       "max      90.562551\n",
       "Name: points, dtype: float64"
      ]
     },
     "execution_count": 12,
     "metadata": {},
     "output_type": "execute_result"
    }
   ],
   "source": [
    "reviewer_mean_ratings.describe()"
   ]
  },
  {
   "cell_type": "markdown",
   "id": "b598bd70",
   "metadata": {
    "papermill": {
     "duration": 0.009898,
     "end_time": "2023-06-08T13:52:16.547272",
     "exception": false,
     "start_time": "2023-06-08T13:52:16.537374",
     "status": "completed"
    },
    "tags": []
   },
   "source": [
    "## 6.\n",
    "What combination of countries and varieties are most common? Create a `Series` whose index is a `MultiIndex`of `{country, variety}` pairs. For example, a pinot noir produced in the US should map to `{\"US\", \"Pinot Noir\"}`. Sort the values in the `Series` in descending order based on wine count."
   ]
  },
  {
   "cell_type": "code",
   "execution_count": 13,
   "id": "cfbbbb28",
   "metadata": {
    "execution": {
     "iopub.execute_input": "2023-06-08T13:52:16.569650Z",
     "iopub.status.busy": "2023-06-08T13:52:16.568916Z",
     "iopub.status.idle": "2023-06-08T13:52:16.635687Z",
     "shell.execute_reply": "2023-06-08T13:52:16.634309Z"
    },
    "papermill": {
     "duration": 0.081447,
     "end_time": "2023-06-08T13:52:16.638556",
     "exception": false,
     "start_time": "2023-06-08T13:52:16.557109",
     "status": "completed"
    },
    "tags": []
   },
   "outputs": [
    {
     "data": {
      "application/javascript": [
       "parent.postMessage({\"jupyterEvent\": \"custom.exercise_interaction\", \"data\": {\"outcomeType\": 1, \"valueTowardsCompletion\": 0.16666666666666666, \"interactionType\": 1, \"questionType\": 1, \"questionId\": \"6_GroupbyCountryVariety\", \"learnToolsVersion\": \"0.3.4\", \"failureMessage\": \"\", \"exceptionClass\": \"\", \"trace\": \"\"}}, \"*\")"
      ],
      "text/plain": [
       "<IPython.core.display.Javascript object>"
      ]
     },
     "metadata": {},
     "output_type": "display_data"
    },
    {
     "data": {
      "text/markdown": [
       "<span style=\"color:#33cc33\">Correct</span>"
      ],
      "text/plain": [
       "Correct"
      ]
     },
     "metadata": {},
     "output_type": "display_data"
    }
   ],
   "source": [
    "country_variety_counts = reviews.groupby(['country', 'variety']).size().sort_values(ascending=False)\n",
    "\n",
    "# Check your answer\n",
    "q6.check()"
   ]
  },
  {
   "cell_type": "code",
   "execution_count": 14,
   "id": "62329823",
   "metadata": {
    "execution": {
     "iopub.execute_input": "2023-06-08T13:52:16.661502Z",
     "iopub.status.busy": "2023-06-08T13:52:16.660984Z",
     "iopub.status.idle": "2023-06-08T13:52:16.666580Z",
     "shell.execute_reply": "2023-06-08T13:52:16.665223Z"
    },
    "papermill": {
     "duration": 0.020253,
     "end_time": "2023-06-08T13:52:16.669375",
     "exception": false,
     "start_time": "2023-06-08T13:52:16.649122",
     "status": "completed"
    },
    "tags": []
   },
   "outputs": [],
   "source": [
    "#q6.hint()\n",
    "#q6.solution()"
   ]
  },
  {
   "cell_type": "markdown",
   "id": "53318d77",
   "metadata": {
    "papermill": {
     "duration": 0.010089,
     "end_time": "2023-06-08T13:52:16.689883",
     "exception": false,
     "start_time": "2023-06-08T13:52:16.679794",
     "status": "completed"
    },
    "tags": []
   },
   "source": [
    "# Keep going\n",
    "\n",
    "Move on to the [**data types and missing data**](https://www.kaggle.com/residentmario/data-types-and-missing-values)."
   ]
  },
  {
   "cell_type": "markdown",
   "id": "bb06a413",
   "metadata": {
    "papermill": {
     "duration": 0.009996,
     "end_time": "2023-06-08T13:52:16.711299",
     "exception": false,
     "start_time": "2023-06-08T13:52:16.701303",
     "status": "completed"
    },
    "tags": []
   },
   "source": [
    "---\n",
    "\n",
    "\n",
    "\n",
    "\n",
    "*Have questions or comments? Visit the [course discussion forum](https://www.kaggle.com/learn/pandas/discussion) to chat with other learners.*"
   ]
  }
 ],
 "metadata": {
  "kernelspec": {
   "display_name": "Python 3",
   "language": "python",
   "name": "python3"
  },
  "language_info": {
   "codemirror_mode": {
    "name": "ipython",
    "version": 3
   },
   "file_extension": ".py",
   "mimetype": "text/x-python",
   "name": "python",
   "nbconvert_exporter": "python",
   "pygments_lexer": "ipython3",
   "version": "3.10.10"
  },
  "papermill": {
   "default_parameters": {},
   "duration": 22.048711,
   "end_time": "2023-06-08T13:52:19.077476",
   "environment_variables": {},
   "exception": null,
   "input_path": "__notebook__.ipynb",
   "output_path": "__notebook__.ipynb",
   "parameters": {},
   "start_time": "2023-06-08T13:51:57.028765",
   "version": "2.4.0"
  }
 },
 "nbformat": 4,
 "nbformat_minor": 5
}
