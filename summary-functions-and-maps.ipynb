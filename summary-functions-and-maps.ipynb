{
 "cells": [
  {
   "cell_type": "markdown",
   "id": "e1158ef0",
   "metadata": {
    "papermill": {
     "duration": 0.009036,
     "end_time": "2023-06-08T13:46:06.413105",
     "exception": false,
     "start_time": "2023-06-08T13:46:06.404069",
     "status": "completed"
    },
    "tags": []
   },
   "source": [
    "**This notebook is an exercise in the [Pandas](https://www.kaggle.com/learn/pandas) course.  You can reference the tutorial at [this link](https://www.kaggle.com/residentmario/summary-functions-and-maps).**\n",
    "\n",
    "---\n"
   ]
  },
  {
   "cell_type": "markdown",
   "id": "d9363d11",
   "metadata": {
    "papermill": {
     "duration": 0.00768,
     "end_time": "2023-06-08T13:46:06.428909",
     "exception": false,
     "start_time": "2023-06-08T13:46:06.421229",
     "status": "completed"
    },
    "tags": []
   },
   "source": [
    "# Introduction\n",
    "\n",
    "Now you are ready to get a deeper understanding of your data.\n",
    "\n",
    "Run the following cell to load your data and some utility functions (including code to check your answers)."
   ]
  },
  {
   "cell_type": "code",
   "execution_count": 1,
   "id": "19f7fdd7",
   "metadata": {
    "execution": {
     "iopub.execute_input": "2023-06-08T13:46:06.446730Z",
     "iopub.status.busy": "2023-06-08T13:46:06.446237Z",
     "iopub.status.idle": "2023-06-08T13:46:15.293221Z",
     "shell.execute_reply": "2023-06-08T13:46:15.291833Z"
    },
    "papermill": {
     "duration": 8.859211,
     "end_time": "2023-06-08T13:46:15.295975",
     "exception": false,
     "start_time": "2023-06-08T13:46:06.436764",
     "status": "completed"
    },
    "tags": []
   },
   "outputs": [
    {
     "name": "stdout",
     "output_type": "stream",
     "text": [
      "Setup complete.\n"
     ]
    },
    {
     "data": {
      "text/html": [
       "<div>\n",
       "<style scoped>\n",
       "    .dataframe tbody tr th:only-of-type {\n",
       "        vertical-align: middle;\n",
       "    }\n",
       "\n",
       "    .dataframe tbody tr th {\n",
       "        vertical-align: top;\n",
       "    }\n",
       "\n",
       "    .dataframe thead th {\n",
       "        text-align: right;\n",
       "    }\n",
       "</style>\n",
       "<table border=\"1\" class=\"dataframe\">\n",
       "  <thead>\n",
       "    <tr style=\"text-align: right;\">\n",
       "      <th></th>\n",
       "      <th>country</th>\n",
       "      <th>description</th>\n",
       "      <th>designation</th>\n",
       "      <th>points</th>\n",
       "      <th>price</th>\n",
       "      <th>province</th>\n",
       "      <th>region_1</th>\n",
       "      <th>region_2</th>\n",
       "      <th>taster_name</th>\n",
       "      <th>taster_twitter_handle</th>\n",
       "      <th>title</th>\n",
       "      <th>variety</th>\n",
       "      <th>winery</th>\n",
       "    </tr>\n",
       "  </thead>\n",
       "  <tbody>\n",
       "    <tr>\n",
       "      <th>0</th>\n",
       "      <td>Italy</td>\n",
       "      <td>Aromas include tropical fruit, broom, brimston...</td>\n",
       "      <td>Vulkà Bianco</td>\n",
       "      <td>87</td>\n",
       "      <td>NaN</td>\n",
       "      <td>Sicily &amp; Sardinia</td>\n",
       "      <td>Etna</td>\n",
       "      <td>NaN</td>\n",
       "      <td>Kerin O’Keefe</td>\n",
       "      <td>@kerinokeefe</td>\n",
       "      <td>Nicosia 2013 Vulkà Bianco  (Etna)</td>\n",
       "      <td>White Blend</td>\n",
       "      <td>Nicosia</td>\n",
       "    </tr>\n",
       "    <tr>\n",
       "      <th>1</th>\n",
       "      <td>Portugal</td>\n",
       "      <td>This is ripe and fruity, a wine that is smooth...</td>\n",
       "      <td>Avidagos</td>\n",
       "      <td>87</td>\n",
       "      <td>15.0</td>\n",
       "      <td>Douro</td>\n",
       "      <td>NaN</td>\n",
       "      <td>NaN</td>\n",
       "      <td>Roger Voss</td>\n",
       "      <td>@vossroger</td>\n",
       "      <td>Quinta dos Avidagos 2011 Avidagos Red (Douro)</td>\n",
       "      <td>Portuguese Red</td>\n",
       "      <td>Quinta dos Avidagos</td>\n",
       "    </tr>\n",
       "    <tr>\n",
       "      <th>2</th>\n",
       "      <td>US</td>\n",
       "      <td>Tart and snappy, the flavors of lime flesh and...</td>\n",
       "      <td>NaN</td>\n",
       "      <td>87</td>\n",
       "      <td>14.0</td>\n",
       "      <td>Oregon</td>\n",
       "      <td>Willamette Valley</td>\n",
       "      <td>Willamette Valley</td>\n",
       "      <td>Paul Gregutt</td>\n",
       "      <td>@paulgwine</td>\n",
       "      <td>Rainstorm 2013 Pinot Gris (Willamette Valley)</td>\n",
       "      <td>Pinot Gris</td>\n",
       "      <td>Rainstorm</td>\n",
       "    </tr>\n",
       "    <tr>\n",
       "      <th>3</th>\n",
       "      <td>US</td>\n",
       "      <td>Pineapple rind, lemon pith and orange blossom ...</td>\n",
       "      <td>Reserve Late Harvest</td>\n",
       "      <td>87</td>\n",
       "      <td>13.0</td>\n",
       "      <td>Michigan</td>\n",
       "      <td>Lake Michigan Shore</td>\n",
       "      <td>NaN</td>\n",
       "      <td>Alexander Peartree</td>\n",
       "      <td>NaN</td>\n",
       "      <td>St. Julian 2013 Reserve Late Harvest Riesling ...</td>\n",
       "      <td>Riesling</td>\n",
       "      <td>St. Julian</td>\n",
       "    </tr>\n",
       "    <tr>\n",
       "      <th>4</th>\n",
       "      <td>US</td>\n",
       "      <td>Much like the regular bottling from 2012, this...</td>\n",
       "      <td>Vintner's Reserve Wild Child Block</td>\n",
       "      <td>87</td>\n",
       "      <td>65.0</td>\n",
       "      <td>Oregon</td>\n",
       "      <td>Willamette Valley</td>\n",
       "      <td>Willamette Valley</td>\n",
       "      <td>Paul Gregutt</td>\n",
       "      <td>@paulgwine</td>\n",
       "      <td>Sweet Cheeks 2012 Vintner's Reserve Wild Child...</td>\n",
       "      <td>Pinot Noir</td>\n",
       "      <td>Sweet Cheeks</td>\n",
       "    </tr>\n",
       "  </tbody>\n",
       "</table>\n",
       "</div>"
      ],
      "text/plain": [
       "    country                                        description  \\\n",
       "0     Italy  Aromas include tropical fruit, broom, brimston...   \n",
       "1  Portugal  This is ripe and fruity, a wine that is smooth...   \n",
       "2        US  Tart and snappy, the flavors of lime flesh and...   \n",
       "3        US  Pineapple rind, lemon pith and orange blossom ...   \n",
       "4        US  Much like the regular bottling from 2012, this...   \n",
       "\n",
       "                          designation  points  price           province  \\\n",
       "0                        Vulkà Bianco      87    NaN  Sicily & Sardinia   \n",
       "1                            Avidagos      87   15.0              Douro   \n",
       "2                                 NaN      87   14.0             Oregon   \n",
       "3                Reserve Late Harvest      87   13.0           Michigan   \n",
       "4  Vintner's Reserve Wild Child Block      87   65.0             Oregon   \n",
       "\n",
       "              region_1           region_2         taster_name  \\\n",
       "0                 Etna                NaN       Kerin O’Keefe   \n",
       "1                  NaN                NaN          Roger Voss   \n",
       "2    Willamette Valley  Willamette Valley        Paul Gregutt   \n",
       "3  Lake Michigan Shore                NaN  Alexander Peartree   \n",
       "4    Willamette Valley  Willamette Valley        Paul Gregutt   \n",
       "\n",
       "  taster_twitter_handle                                              title  \\\n",
       "0          @kerinokeefe                  Nicosia 2013 Vulkà Bianco  (Etna)   \n",
       "1            @vossroger      Quinta dos Avidagos 2011 Avidagos Red (Douro)   \n",
       "2           @paulgwine       Rainstorm 2013 Pinot Gris (Willamette Valley)   \n",
       "3                   NaN  St. Julian 2013 Reserve Late Harvest Riesling ...   \n",
       "4           @paulgwine   Sweet Cheeks 2012 Vintner's Reserve Wild Child...   \n",
       "\n",
       "          variety               winery  \n",
       "0     White Blend              Nicosia  \n",
       "1  Portuguese Red  Quinta dos Avidagos  \n",
       "2      Pinot Gris            Rainstorm  \n",
       "3        Riesling           St. Julian  \n",
       "4      Pinot Noir         Sweet Cheeks  "
      ]
     },
     "execution_count": 1,
     "metadata": {},
     "output_type": "execute_result"
    }
   ],
   "source": [
    "import pandas as pd\n",
    "pd.set_option(\"display.max_rows\", 5)\n",
    "reviews = pd.read_csv(\"../input/wine-reviews/winemag-data-130k-v2.csv\", index_col=0)\n",
    "\n",
    "from learntools.core import binder; binder.bind(globals())\n",
    "from learntools.pandas.summary_functions_and_maps import *\n",
    "print(\"Setup complete.\")\n",
    "\n",
    "reviews.head()"
   ]
  },
  {
   "cell_type": "markdown",
   "id": "b8a6adc2",
   "metadata": {
    "papermill": {
     "duration": 0.007983,
     "end_time": "2023-06-08T13:46:15.312610",
     "exception": false,
     "start_time": "2023-06-08T13:46:15.304627",
     "status": "completed"
    },
    "tags": []
   },
   "source": [
    "# Exercises"
   ]
  },
  {
   "cell_type": "markdown",
   "id": "db3a1be0",
   "metadata": {
    "papermill": {
     "duration": 0.009627,
     "end_time": "2023-06-08T13:46:15.330523",
     "exception": false,
     "start_time": "2023-06-08T13:46:15.320896",
     "status": "completed"
    },
    "tags": []
   },
   "source": [
    "## 1.\n",
    "\n",
    "What is the median of the `points` column in the `reviews` DataFrame?"
   ]
  },
  {
   "cell_type": "code",
   "execution_count": 2,
   "id": "3d9b207c",
   "metadata": {
    "execution": {
     "iopub.execute_input": "2023-06-08T13:46:15.349345Z",
     "iopub.status.busy": "2023-06-08T13:46:15.348878Z",
     "iopub.status.idle": "2023-06-08T13:46:15.361905Z",
     "shell.execute_reply": "2023-06-08T13:46:15.360655Z"
    },
    "papermill": {
     "duration": 0.025721,
     "end_time": "2023-06-08T13:46:15.364714",
     "exception": false,
     "start_time": "2023-06-08T13:46:15.338993",
     "status": "completed"
    },
    "tags": []
   },
   "outputs": [
    {
     "data": {
      "application/javascript": [
       "parent.postMessage({\"jupyterEvent\": \"custom.exercise_interaction\", \"data\": {\"outcomeType\": 1, \"valueTowardsCompletion\": 0.14285714285714285, \"interactionType\": 1, \"questionType\": 1, \"questionId\": \"1_MedianPoints\", \"learnToolsVersion\": \"0.3.4\", \"failureMessage\": \"\", \"exceptionClass\": \"\", \"trace\": \"\"}}, \"*\")"
      ],
      "text/plain": [
       "<IPython.core.display.Javascript object>"
      ]
     },
     "metadata": {},
     "output_type": "display_data"
    },
    {
     "data": {
      "text/markdown": [
       "<span style=\"color:#33cc33\">Correct</span>"
      ],
      "text/plain": [
       "Correct"
      ]
     },
     "metadata": {},
     "output_type": "display_data"
    }
   ],
   "source": [
    "median_points = reviews.points.median()\n",
    "# Check your answer\n",
    "q1.check()"
   ]
  },
  {
   "cell_type": "code",
   "execution_count": 3,
   "id": "b64d5c04",
   "metadata": {
    "execution": {
     "iopub.execute_input": "2023-06-08T13:46:15.384853Z",
     "iopub.status.busy": "2023-06-08T13:46:15.384466Z",
     "iopub.status.idle": "2023-06-08T13:46:15.388674Z",
     "shell.execute_reply": "2023-06-08T13:46:15.387517Z"
    },
    "papermill": {
     "duration": 0.017459,
     "end_time": "2023-06-08T13:46:15.391316",
     "exception": false,
     "start_time": "2023-06-08T13:46:15.373857",
     "status": "completed"
    },
    "tags": []
   },
   "outputs": [],
   "source": [
    "#q1.hint()\n",
    "#q1.solution()"
   ]
  },
  {
   "cell_type": "markdown",
   "id": "6afe201c",
   "metadata": {
    "papermill": {
     "duration": 0.008575,
     "end_time": "2023-06-08T13:46:15.408820",
     "exception": false,
     "start_time": "2023-06-08T13:46:15.400245",
     "status": "completed"
    },
    "tags": []
   },
   "source": [
    "## 2. \n",
    "What countries are represented in the dataset? (Your answer should not include any duplicates.)"
   ]
  },
  {
   "cell_type": "code",
   "execution_count": 4,
   "id": "1af608e4",
   "metadata": {
    "execution": {
     "iopub.execute_input": "2023-06-08T13:46:15.428376Z",
     "iopub.status.busy": "2023-06-08T13:46:15.427987Z",
     "iopub.status.idle": "2023-06-08T13:46:15.449315Z",
     "shell.execute_reply": "2023-06-08T13:46:15.448193Z"
    },
    "papermill": {
     "duration": 0.034102,
     "end_time": "2023-06-08T13:46:15.451708",
     "exception": false,
     "start_time": "2023-06-08T13:46:15.417606",
     "status": "completed"
    },
    "tags": []
   },
   "outputs": [
    {
     "data": {
      "application/javascript": [
       "parent.postMessage({\"jupyterEvent\": \"custom.exercise_interaction\", \"data\": {\"outcomeType\": 1, \"valueTowardsCompletion\": 0.14285714285714285, \"interactionType\": 1, \"questionType\": 2, \"questionId\": \"2_UniqueCountries\", \"learnToolsVersion\": \"0.3.4\", \"failureMessage\": \"\", \"exceptionClass\": \"\", \"trace\": \"\"}}, \"*\")"
      ],
      "text/plain": [
       "<IPython.core.display.Javascript object>"
      ]
     },
     "metadata": {},
     "output_type": "display_data"
    },
    {
     "data": {
      "text/markdown": [
       "<span style=\"color:#33cc33\">Correct</span>"
      ],
      "text/plain": [
       "Correct"
      ]
     },
     "metadata": {},
     "output_type": "display_data"
    }
   ],
   "source": [
    "countries = reviews.country.unique()\n",
    "\n",
    "# Check your answer\n",
    "q2.check()"
   ]
  },
  {
   "cell_type": "code",
   "execution_count": 5,
   "id": "888b87c2",
   "metadata": {
    "execution": {
     "iopub.execute_input": "2023-06-08T13:46:15.472345Z",
     "iopub.status.busy": "2023-06-08T13:46:15.471899Z",
     "iopub.status.idle": "2023-06-08T13:46:15.477367Z",
     "shell.execute_reply": "2023-06-08T13:46:15.476058Z"
    },
    "papermill": {
     "duration": 0.018821,
     "end_time": "2023-06-08T13:46:15.479931",
     "exception": false,
     "start_time": "2023-06-08T13:46:15.461110",
     "status": "completed"
    },
    "tags": []
   },
   "outputs": [],
   "source": [
    "#q2.hint()\n",
    "#q2.solution()"
   ]
  },
  {
   "cell_type": "markdown",
   "id": "70650e6c",
   "metadata": {
    "papermill": {
     "duration": 0.008785,
     "end_time": "2023-06-08T13:46:15.497938",
     "exception": false,
     "start_time": "2023-06-08T13:46:15.489153",
     "status": "completed"
    },
    "tags": []
   },
   "source": [
    "## 3.\n",
    "How often does each country appear in the dataset? Create a Series `reviews_per_country` mapping countries to the count of reviews of wines from that country."
   ]
  },
  {
   "cell_type": "code",
   "execution_count": 6,
   "id": "2feb877c",
   "metadata": {
    "execution": {
     "iopub.execute_input": "2023-06-08T13:46:15.518252Z",
     "iopub.status.busy": "2023-06-08T13:46:15.517804Z",
     "iopub.status.idle": "2023-06-08T13:46:15.548782Z",
     "shell.execute_reply": "2023-06-08T13:46:15.547745Z"
    },
    "papermill": {
     "duration": 0.044007,
     "end_time": "2023-06-08T13:46:15.551182",
     "exception": false,
     "start_time": "2023-06-08T13:46:15.507175",
     "status": "completed"
    },
    "tags": []
   },
   "outputs": [
    {
     "data": {
      "application/javascript": [
       "parent.postMessage({\"jupyterEvent\": \"custom.exercise_interaction\", \"data\": {\"outcomeType\": 1, \"valueTowardsCompletion\": 0.14285714285714285, \"interactionType\": 1, \"questionType\": 1, \"questionId\": \"3_ReviewsPerCountry\", \"learnToolsVersion\": \"0.3.4\", \"failureMessage\": \"\", \"exceptionClass\": \"\", \"trace\": \"\"}}, \"*\")"
      ],
      "text/plain": [
       "<IPython.core.display.Javascript object>"
      ]
     },
     "metadata": {},
     "output_type": "display_data"
    },
    {
     "data": {
      "text/markdown": [
       "<span style=\"color:#33cc33\">Correct</span>"
      ],
      "text/plain": [
       "Correct"
      ]
     },
     "metadata": {},
     "output_type": "display_data"
    }
   ],
   "source": [
    "reviews_per_country = reviews.country.value_counts()\n",
    "\n",
    "# Check your answer\n",
    "q3.check()\n"
   ]
  },
  {
   "cell_type": "code",
   "execution_count": 7,
   "id": "2aae3025",
   "metadata": {
    "execution": {
     "iopub.execute_input": "2023-06-08T13:46:15.573488Z",
     "iopub.status.busy": "2023-06-08T13:46:15.573047Z",
     "iopub.status.idle": "2023-06-08T13:46:15.577979Z",
     "shell.execute_reply": "2023-06-08T13:46:15.576861Z"
    },
    "papermill": {
     "duration": 0.018888,
     "end_time": "2023-06-08T13:46:15.580565",
     "exception": false,
     "start_time": "2023-06-08T13:46:15.561677",
     "status": "completed"
    },
    "tags": []
   },
   "outputs": [],
   "source": [
    "#q3.hint()\n",
    "#q3.solution()"
   ]
  },
  {
   "cell_type": "markdown",
   "id": "504e13c0",
   "metadata": {
    "papermill": {
     "duration": 0.009244,
     "end_time": "2023-06-08T13:46:15.599485",
     "exception": false,
     "start_time": "2023-06-08T13:46:15.590241",
     "status": "completed"
    },
    "tags": []
   },
   "source": [
    "## 4.\n",
    "Create variable `centered_price` containing a version of the `price` column with the mean price subtracted.\n",
    "\n",
    "(Note: this 'centering' transformation is a common preprocessing step before applying various machine learning algorithms.) "
   ]
  },
  {
   "cell_type": "code",
   "execution_count": 8,
   "id": "4a6a09cf",
   "metadata": {
    "execution": {
     "iopub.execute_input": "2023-06-08T13:46:15.621382Z",
     "iopub.status.busy": "2023-06-08T13:46:15.620294Z",
     "iopub.status.idle": "2023-06-08T13:46:15.632463Z",
     "shell.execute_reply": "2023-06-08T13:46:15.631412Z"
    },
    "papermill": {
     "duration": 0.02598,
     "end_time": "2023-06-08T13:46:15.635074",
     "exception": false,
     "start_time": "2023-06-08T13:46:15.609094",
     "status": "completed"
    },
    "tags": []
   },
   "outputs": [
    {
     "data": {
      "application/javascript": [
       "parent.postMessage({\"jupyterEvent\": \"custom.exercise_interaction\", \"data\": {\"outcomeType\": 1, \"valueTowardsCompletion\": 0.14285714285714285, \"interactionType\": 1, \"questionType\": 1, \"questionId\": \"4_CenteredPrice\", \"learnToolsVersion\": \"0.3.4\", \"failureMessage\": \"\", \"exceptionClass\": \"\", \"trace\": \"\"}}, \"*\")"
      ],
      "text/plain": [
       "<IPython.core.display.Javascript object>"
      ]
     },
     "metadata": {},
     "output_type": "display_data"
    },
    {
     "data": {
      "text/markdown": [
       "<span style=\"color:#33cc33\">Correct</span>"
      ],
      "text/plain": [
       "Correct"
      ]
     },
     "metadata": {},
     "output_type": "display_data"
    }
   ],
   "source": [
    "centered_price = reviews.price - reviews.price.mean()\n",
    "\n",
    "# Check your answer\n",
    "q4.check()"
   ]
  },
  {
   "cell_type": "code",
   "execution_count": 9,
   "id": "2cd6f922",
   "metadata": {
    "execution": {
     "iopub.execute_input": "2023-06-08T13:46:15.656584Z",
     "iopub.status.busy": "2023-06-08T13:46:15.656120Z",
     "iopub.status.idle": "2023-06-08T13:46:15.661608Z",
     "shell.execute_reply": "2023-06-08T13:46:15.660228Z"
    },
    "papermill": {
     "duration": 0.019748,
     "end_time": "2023-06-08T13:46:15.664808",
     "exception": false,
     "start_time": "2023-06-08T13:46:15.645060",
     "status": "completed"
    },
    "tags": []
   },
   "outputs": [],
   "source": [
    "#q4.hint()\n",
    "#q4.solution()"
   ]
  },
  {
   "cell_type": "markdown",
   "id": "67c4a0b0",
   "metadata": {
    "papermill": {
     "duration": 0.009599,
     "end_time": "2023-06-08T13:46:15.685068",
     "exception": false,
     "start_time": "2023-06-08T13:46:15.675469",
     "status": "completed"
    },
    "tags": []
   },
   "source": [
    "## 5.\n",
    "I'm an economical wine buyer. Which wine is the \"best bargain\"? Create a variable `bargain_wine` with the title of the wine with the highest points-to-price ratio in the dataset."
   ]
  },
  {
   "cell_type": "code",
   "execution_count": 10,
   "id": "972c4704",
   "metadata": {
    "execution": {
     "iopub.execute_input": "2023-06-08T13:46:15.707411Z",
     "iopub.status.busy": "2023-06-08T13:46:15.706968Z",
     "iopub.status.idle": "2023-06-08T13:46:15.723895Z",
     "shell.execute_reply": "2023-06-08T13:46:15.722377Z"
    },
    "papermill": {
     "duration": 0.030852,
     "end_time": "2023-06-08T13:46:15.726446",
     "exception": false,
     "start_time": "2023-06-08T13:46:15.695594",
     "status": "completed"
    },
    "tags": []
   },
   "outputs": [
    {
     "data": {
      "application/javascript": [
       "parent.postMessage({\"jupyterEvent\": \"custom.exercise_interaction\", \"data\": {\"outcomeType\": 1, \"valueTowardsCompletion\": 0.14285714285714285, \"interactionType\": 1, \"questionType\": 2, \"questionId\": \"5_BargainWine\", \"learnToolsVersion\": \"0.3.4\", \"failureMessage\": \"\", \"exceptionClass\": \"\", \"trace\": \"\"}}, \"*\")"
      ],
      "text/plain": [
       "<IPython.core.display.Javascript object>"
      ]
     },
     "metadata": {},
     "output_type": "display_data"
    },
    {
     "data": {
      "text/markdown": [
       "<span style=\"color:#33cc33\">Correct</span>"
      ],
      "text/plain": [
       "Correct"
      ]
     },
     "metadata": {},
     "output_type": "display_data"
    }
   ],
   "source": [
    "bargain_id = (reviews.points / reviews.price).idxmax()\n",
    "bargain_wine = reviews.loc[bargain_id, 'title']\n",
    "\n",
    "# Check your answer\n",
    "q5.check()"
   ]
  },
  {
   "cell_type": "code",
   "execution_count": 11,
   "id": "124519eb",
   "metadata": {
    "execution": {
     "iopub.execute_input": "2023-06-08T13:46:15.749492Z",
     "iopub.status.busy": "2023-06-08T13:46:15.748212Z",
     "iopub.status.idle": "2023-06-08T13:46:15.752694Z",
     "shell.execute_reply": "2023-06-08T13:46:15.751811Z"
    },
    "papermill": {
     "duration": 0.018499,
     "end_time": "2023-06-08T13:46:15.755188",
     "exception": false,
     "start_time": "2023-06-08T13:46:15.736689",
     "status": "completed"
    },
    "tags": []
   },
   "outputs": [],
   "source": [
    "#q5.hint()\n",
    "#q5.solution()"
   ]
  },
  {
   "cell_type": "markdown",
   "id": "4e815482",
   "metadata": {
    "papermill": {
     "duration": 0.009792,
     "end_time": "2023-06-08T13:46:15.775897",
     "exception": false,
     "start_time": "2023-06-08T13:46:15.766105",
     "status": "completed"
    },
    "tags": []
   },
   "source": [
    "## 6.\n",
    "There are only so many words you can use when describing a bottle of wine. Is a wine more likely to be \"tropical\" or \"fruity\"? Create a Series `descriptor_counts` counting how many times each of these two words appears in the `description` column in the dataset. (For simplicity, let's ignore the capitalized versions of these words.)"
   ]
  },
  {
   "cell_type": "code",
   "execution_count": 12,
   "id": "b2ff37c8",
   "metadata": {
    "execution": {
     "iopub.execute_input": "2023-06-08T13:46:15.798261Z",
     "iopub.status.busy": "2023-06-08T13:46:15.797817Z",
     "iopub.status.idle": "2023-06-08T13:46:15.965132Z",
     "shell.execute_reply": "2023-06-08T13:46:15.964032Z"
    },
    "papermill": {
     "duration": 0.181524,
     "end_time": "2023-06-08T13:46:15.967588",
     "exception": false,
     "start_time": "2023-06-08T13:46:15.786064",
     "status": "completed"
    },
    "tags": []
   },
   "outputs": [
    {
     "data": {
      "application/javascript": [
       "parent.postMessage({\"jupyterEvent\": \"custom.exercise_interaction\", \"data\": {\"outcomeType\": 1, \"valueTowardsCompletion\": 0.14285714285714285, \"interactionType\": 1, \"questionType\": 1, \"questionId\": \"6_DescriptorCounts\", \"learnToolsVersion\": \"0.3.4\", \"failureMessage\": \"\", \"exceptionClass\": \"\", \"trace\": \"\"}}, \"*\")"
      ],
      "text/plain": [
       "<IPython.core.display.Javascript object>"
      ]
     },
     "metadata": {},
     "output_type": "display_data"
    },
    {
     "data": {
      "text/markdown": [
       "<span style=\"color:#33cc33\">Correct</span>"
      ],
      "text/plain": [
       "Correct"
      ]
     },
     "metadata": {},
     "output_type": "display_data"
    }
   ],
   "source": [
    "tropical = reviews.description.map(lambda desc: \"tropical\" in desc).sum()\n",
    "fruity = reviews.description.map(lambda desc: \"fruity\" in desc).sum()\n",
    "descriptor_counts = pd.Series([tropical, fruity], index=['tropical', 'fruity'])\n",
    "\n",
    "# Check your answer\n",
    "q6.check()"
   ]
  },
  {
   "cell_type": "code",
   "execution_count": 13,
   "id": "d5f13948",
   "metadata": {
    "execution": {
     "iopub.execute_input": "2023-06-08T13:46:15.990835Z",
     "iopub.status.busy": "2023-06-08T13:46:15.990400Z",
     "iopub.status.idle": "2023-06-08T13:46:15.995071Z",
     "shell.execute_reply": "2023-06-08T13:46:15.994014Z"
    },
    "papermill": {
     "duration": 0.019104,
     "end_time": "2023-06-08T13:46:15.997562",
     "exception": false,
     "start_time": "2023-06-08T13:46:15.978458",
     "status": "completed"
    },
    "tags": []
   },
   "outputs": [],
   "source": [
    "#q6.hint()\n",
    "#q6.solution()"
   ]
  },
  {
   "cell_type": "markdown",
   "id": "02174b48",
   "metadata": {
    "papermill": {
     "duration": 0.010066,
     "end_time": "2023-06-08T13:46:16.018105",
     "exception": false,
     "start_time": "2023-06-08T13:46:16.008039",
     "status": "completed"
    },
    "tags": []
   },
   "source": [
    "## 7.\n",
    "We'd like to host these wine reviews on our website, but a rating system ranging from 80 to 100 points is too hard to understand - we'd like to translate them into simple star ratings. A score of 95 or higher counts as 3 stars, a score of at least 85 but less than 95 is 2 stars. Any other score is 1 star.\n",
    "\n",
    "Also, the Canadian Vintners Association bought a lot of ads on the site, so any wines from Canada should automatically get 3 stars, regardless of points.\n",
    "\n",
    "Create a series `star_ratings` with the number of stars corresponding to each review in the dataset."
   ]
  },
  {
   "cell_type": "code",
   "execution_count": 14,
   "id": "9e4fbb55",
   "metadata": {
    "execution": {
     "iopub.execute_input": "2023-06-08T13:46:16.040656Z",
     "iopub.status.busy": "2023-06-08T13:46:16.040105Z",
     "iopub.status.idle": "2023-06-08T13:46:21.437735Z",
     "shell.execute_reply": "2023-06-08T13:46:21.436415Z"
    },
    "papermill": {
     "duration": 5.412001,
     "end_time": "2023-06-08T13:46:21.440329",
     "exception": false,
     "start_time": "2023-06-08T13:46:16.028328",
     "status": "completed"
    },
    "tags": []
   },
   "outputs": [
    {
     "data": {
      "application/javascript": [
       "parent.postMessage({\"jupyterEvent\": \"custom.exercise_interaction\", \"data\": {\"outcomeType\": 1, \"valueTowardsCompletion\": 0.14285714285714285, \"interactionType\": 1, \"questionType\": 1, \"questionId\": \"7_StarRatings\", \"learnToolsVersion\": \"0.3.4\", \"failureMessage\": \"\", \"exceptionClass\": \"\", \"trace\": \"\"}}, \"*\")"
      ],
      "text/plain": [
       "<IPython.core.display.Javascript object>"
      ]
     },
     "metadata": {},
     "output_type": "display_data"
    },
    {
     "data": {
      "text/markdown": [
       "<span style=\"color:#33cc33\">Correct</span>"
      ],
      "text/plain": [
       "Correct"
      ]
     },
     "metadata": {},
     "output_type": "display_data"
    }
   ],
   "source": [
    "def stars(row):\n",
    "    if row.country == 'Canada':\n",
    "        return 3\n",
    "    elif row.points >= 95:\n",
    "        return 3\n",
    "    elif row.points >= 85:\n",
    "        return 2\n",
    "    else:\n",
    "        return 1\n",
    "\n",
    "star_ratings = reviews.apply(stars, axis='columns')\n",
    "\n",
    "# Check your answer\n",
    "q7.check()"
   ]
  },
  {
   "cell_type": "code",
   "execution_count": 15,
   "id": "57b98782",
   "metadata": {
    "execution": {
     "iopub.execute_input": "2023-06-08T13:46:21.465439Z",
     "iopub.status.busy": "2023-06-08T13:46:21.464239Z",
     "iopub.status.idle": "2023-06-08T13:46:21.470266Z",
     "shell.execute_reply": "2023-06-08T13:46:21.468871Z"
    },
    "papermill": {
     "duration": 0.022115,
     "end_time": "2023-06-08T13:46:21.473276",
     "exception": false,
     "start_time": "2023-06-08T13:46:21.451161",
     "status": "completed"
    },
    "tags": []
   },
   "outputs": [],
   "source": [
    "#q7.hint()\n",
    "#q7.solution()"
   ]
  },
  {
   "cell_type": "markdown",
   "id": "fe29bd27",
   "metadata": {
    "papermill": {
     "duration": 0.01063,
     "end_time": "2023-06-08T13:46:21.494769",
     "exception": false,
     "start_time": "2023-06-08T13:46:21.484139",
     "status": "completed"
    },
    "tags": []
   },
   "source": [
    "# Keep going\n",
    "Continue to **[grouping and sorting](https://www.kaggle.com/residentmario/grouping-and-sorting)**."
   ]
  },
  {
   "cell_type": "markdown",
   "id": "d5b7cb44",
   "metadata": {
    "papermill": {
     "duration": 0.010715,
     "end_time": "2023-06-08T13:46:21.516724",
     "exception": false,
     "start_time": "2023-06-08T13:46:21.506009",
     "status": "completed"
    },
    "tags": []
   },
   "source": [
    "---\n",
    "\n",
    "\n",
    "\n",
    "\n",
    "*Have questions or comments? Visit the [course discussion forum](https://www.kaggle.com/learn/pandas/discussion) to chat with other learners.*"
   ]
  }
 ],
 "metadata": {
  "kernelspec": {
   "display_name": "Python 3",
   "language": "python",
   "name": "python3"
  },
  "language_info": {
   "codemirror_mode": {
    "name": "ipython",
    "version": 3
   },
   "file_extension": ".py",
   "mimetype": "text/x-python",
   "name": "python",
   "nbconvert_exporter": "python",
   "pygments_lexer": "ipython3",
   "version": "3.10.10"
  },
  "papermill": {
   "default_parameters": {},
   "duration": 29.816892,
   "end_time": "2023-06-08T13:46:22.551677",
   "environment_variables": {},
   "exception": null,
   "input_path": "__notebook__.ipynb",
   "output_path": "__notebook__.ipynb",
   "parameters": {},
   "start_time": "2023-06-08T13:45:52.734785",
   "version": "2.4.0"
  }
 },
 "nbformat": 4,
 "nbformat_minor": 5
}
