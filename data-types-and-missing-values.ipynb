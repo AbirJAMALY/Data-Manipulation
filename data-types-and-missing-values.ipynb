{
 "cells": [
  {
   "cell_type": "markdown",
   "id": "9c1a1056",
   "metadata": {
    "papermill": {
     "duration": 0.004589,
     "end_time": "2023-06-08T13:57:00.322127",
     "exception": false,
     "start_time": "2023-06-08T13:57:00.317538",
     "status": "completed"
    },
    "tags": []
   },
   "source": [
    "**This notebook is an exercise in the [Pandas](https://www.kaggle.com/learn/pandas) course.  You can reference the tutorial at [this link](https://www.kaggle.com/residentmario/data-types-and-missing-values).**\n",
    "\n",
    "---\n"
   ]
  },
  {
   "cell_type": "markdown",
   "id": "764de244",
   "metadata": {
    "papermill": {
     "duration": 0.003739,
     "end_time": "2023-06-08T13:57:00.330213",
     "exception": false,
     "start_time": "2023-06-08T13:57:00.326474",
     "status": "completed"
    },
    "tags": []
   },
   "source": [
    "# Introduction\n",
    "\n",
    "Run the following cell to load your data and some utility functions."
   ]
  },
  {
   "cell_type": "code",
   "execution_count": 1,
   "id": "c7c9c312",
   "metadata": {
    "execution": {
     "iopub.execute_input": "2023-06-08T13:57:00.340925Z",
     "iopub.status.busy": "2023-06-08T13:57:00.339802Z",
     "iopub.status.idle": "2023-06-08T13:57:03.591373Z",
     "shell.execute_reply": "2023-06-08T13:57:03.590412Z"
    },
    "papermill": {
     "duration": 3.259573,
     "end_time": "2023-06-08T13:57:03.593795",
     "exception": false,
     "start_time": "2023-06-08T13:57:00.334222",
     "status": "completed"
    },
    "tags": []
   },
   "outputs": [
    {
     "name": "stdout",
     "output_type": "stream",
     "text": [
      "Setup complete.\n"
     ]
    }
   ],
   "source": [
    "import pandas as pd\n",
    "\n",
    "reviews = pd.read_csv(\"../input/wine-reviews/winemag-data-130k-v2.csv\", index_col=0)\n",
    "\n",
    "from learntools.core import binder; binder.bind(globals())\n",
    "from learntools.pandas.data_types_and_missing_data import *\n",
    "print(\"Setup complete.\")"
   ]
  },
  {
   "cell_type": "markdown",
   "id": "d11251f8",
   "metadata": {
    "papermill": {
     "duration": 0.004019,
     "end_time": "2023-06-08T13:57:03.602162",
     "exception": false,
     "start_time": "2023-06-08T13:57:03.598143",
     "status": "completed"
    },
    "tags": []
   },
   "source": [
    "# Exercises"
   ]
  },
  {
   "cell_type": "markdown",
   "id": "e2362b60",
   "metadata": {
    "papermill": {
     "duration": 0.003874,
     "end_time": "2023-06-08T13:57:03.610302",
     "exception": false,
     "start_time": "2023-06-08T13:57:03.606428",
     "status": "completed"
    },
    "tags": []
   },
   "source": [
    "## 1. \n",
    "What is the data type of the `points` column in the dataset?"
   ]
  },
  {
   "cell_type": "code",
   "execution_count": 2,
   "id": "95dd8d2b",
   "metadata": {
    "execution": {
     "iopub.execute_input": "2023-06-08T13:57:03.620976Z",
     "iopub.status.busy": "2023-06-08T13:57:03.619963Z",
     "iopub.status.idle": "2023-06-08T13:57:03.630235Z",
     "shell.execute_reply": "2023-06-08T13:57:03.629139Z"
    },
    "papermill": {
     "duration": 0.017906,
     "end_time": "2023-06-08T13:57:03.632454",
     "exception": false,
     "start_time": "2023-06-08T13:57:03.614548",
     "status": "completed"
    },
    "tags": []
   },
   "outputs": [
    {
     "data": {
      "application/javascript": [
       "parent.postMessage({\"jupyterEvent\": \"custom.exercise_interaction\", \"data\": {\"outcomeType\": 1, \"valueTowardsCompletion\": 0.25, \"interactionType\": 1, \"questionType\": 1, \"questionId\": \"1_PointsDtype\", \"learnToolsVersion\": \"0.3.4\", \"failureMessage\": \"\", \"exceptionClass\": \"\", \"trace\": \"\"}}, \"*\")"
      ],
      "text/plain": [
       "<IPython.core.display.Javascript object>"
      ]
     },
     "metadata": {},
     "output_type": "display_data"
    },
    {
     "data": {
      "text/markdown": [
       "<span style=\"color:#33cc33\">Correct</span>"
      ],
      "text/plain": [
       "Correct"
      ]
     },
     "metadata": {},
     "output_type": "display_data"
    }
   ],
   "source": [
    "# Your code here\n",
    "dtype = reviews.points.dtype\n",
    "\n",
    "# Check your answer\n",
    "q1.check()"
   ]
  },
  {
   "cell_type": "code",
   "execution_count": 3,
   "id": "c26e009c",
   "metadata": {
    "execution": {
     "iopub.execute_input": "2023-06-08T13:57:03.645200Z",
     "iopub.status.busy": "2023-06-08T13:57:03.644206Z",
     "iopub.status.idle": "2023-06-08T13:57:03.648888Z",
     "shell.execute_reply": "2023-06-08T13:57:03.647832Z"
    },
    "papermill": {
     "duration": 0.012382,
     "end_time": "2023-06-08T13:57:03.650981",
     "exception": false,
     "start_time": "2023-06-08T13:57:03.638599",
     "status": "completed"
    },
    "tags": []
   },
   "outputs": [],
   "source": [
    "#q1.hint()\n",
    "#q1.solution()"
   ]
  },
  {
   "cell_type": "markdown",
   "id": "a4db2cbf",
   "metadata": {
    "papermill": {
     "duration": 0.004273,
     "end_time": "2023-06-08T13:57:03.659900",
     "exception": false,
     "start_time": "2023-06-08T13:57:03.655627",
     "status": "completed"
    },
    "tags": []
   },
   "source": [
    "## 2. \n",
    "Create a Series from entries in the `points` column, but convert the entries to strings. Hint: strings are `str` in native Python."
   ]
  },
  {
   "cell_type": "code",
   "execution_count": 4,
   "id": "99219c92",
   "metadata": {
    "execution": {
     "iopub.execute_input": "2023-06-08T13:57:03.671089Z",
     "iopub.status.busy": "2023-06-08T13:57:03.670160Z",
     "iopub.status.idle": "2023-06-08T13:57:03.729020Z",
     "shell.execute_reply": "2023-06-08T13:57:03.727980Z"
    },
    "papermill": {
     "duration": 0.066818,
     "end_time": "2023-06-08T13:57:03.731246",
     "exception": false,
     "start_time": "2023-06-08T13:57:03.664428",
     "status": "completed"
    },
    "tags": []
   },
   "outputs": [
    {
     "data": {
      "application/javascript": [
       "parent.postMessage({\"jupyterEvent\": \"custom.exercise_interaction\", \"data\": {\"outcomeType\": 1, \"valueTowardsCompletion\": 0.25, \"interactionType\": 1, \"questionType\": 1, \"questionId\": \"2_StrPoints\", \"learnToolsVersion\": \"0.3.4\", \"failureMessage\": \"\", \"exceptionClass\": \"\", \"trace\": \"\"}}, \"*\")"
      ],
      "text/plain": [
       "<IPython.core.display.Javascript object>"
      ]
     },
     "metadata": {},
     "output_type": "display_data"
    },
    {
     "data": {
      "text/markdown": [
       "<span style=\"color:#33cc33\">Correct</span>"
      ],
      "text/plain": [
       "Correct"
      ]
     },
     "metadata": {},
     "output_type": "display_data"
    }
   ],
   "source": [
    "point_strings = reviews.points.astype(str)\n",
    "\n",
    "# Check your answer\n",
    "q2.check()"
   ]
  },
  {
   "cell_type": "code",
   "execution_count": 5,
   "id": "611eb8e5",
   "metadata": {
    "execution": {
     "iopub.execute_input": "2023-06-08T13:57:03.743457Z",
     "iopub.status.busy": "2023-06-08T13:57:03.742424Z",
     "iopub.status.idle": "2023-06-08T13:57:03.747034Z",
     "shell.execute_reply": "2023-06-08T13:57:03.746257Z"
    },
    "papermill": {
     "duration": 0.012928,
     "end_time": "2023-06-08T13:57:03.749035",
     "exception": false,
     "start_time": "2023-06-08T13:57:03.736107",
     "status": "completed"
    },
    "tags": []
   },
   "outputs": [],
   "source": [
    "#q2.hint()\n",
    "#q2.solution()"
   ]
  },
  {
   "cell_type": "markdown",
   "id": "4525c33f",
   "metadata": {
    "papermill": {
     "duration": 0.004381,
     "end_time": "2023-06-08T13:57:03.758279",
     "exception": false,
     "start_time": "2023-06-08T13:57:03.753898",
     "status": "completed"
    },
    "tags": []
   },
   "source": [
    "## 3.\n",
    "Sometimes the price column is null. How many reviews in the dataset are missing a price?"
   ]
  },
  {
   "cell_type": "code",
   "execution_count": 6,
   "id": "1dd6cdc1",
   "metadata": {
    "execution": {
     "iopub.execute_input": "2023-06-08T13:57:03.769891Z",
     "iopub.status.busy": "2023-06-08T13:57:03.769267Z",
     "iopub.status.idle": "2023-06-08T13:57:03.785291Z",
     "shell.execute_reply": "2023-06-08T13:57:03.784205Z"
    },
    "papermill": {
     "duration": 0.02449,
     "end_time": "2023-06-08T13:57:03.787504",
     "exception": false,
     "start_time": "2023-06-08T13:57:03.763014",
     "status": "completed"
    },
    "tags": []
   },
   "outputs": [
    {
     "data": {
      "application/javascript": [
       "parent.postMessage({\"jupyterEvent\": \"custom.exercise_interaction\", \"data\": {\"outcomeType\": 1, \"valueTowardsCompletion\": 0.25, \"interactionType\": 1, \"questionType\": 1, \"questionId\": \"3_CountMissingPrices\", \"learnToolsVersion\": \"0.3.4\", \"failureMessage\": \"\", \"exceptionClass\": \"\", \"trace\": \"\"}}, \"*\")"
      ],
      "text/plain": [
       "<IPython.core.display.Javascript object>"
      ]
     },
     "metadata": {},
     "output_type": "display_data"
    },
    {
     "data": {
      "text/markdown": [
       "<span style=\"color:#33cc33\">Correct</span>"
      ],
      "text/plain": [
       "Correct"
      ]
     },
     "metadata": {},
     "output_type": "display_data"
    }
   ],
   "source": [
    "n_missing_prices = len(reviews[reviews.price.isnull()])\n",
    "# Check your answer\n",
    "q3.check()"
   ]
  },
  {
   "cell_type": "code",
   "execution_count": 7,
   "id": "f8f199cb",
   "metadata": {
    "execution": {
     "iopub.execute_input": "2023-06-08T13:57:03.799775Z",
     "iopub.status.busy": "2023-06-08T13:57:03.799154Z",
     "iopub.status.idle": "2023-06-08T13:57:03.803066Z",
     "shell.execute_reply": "2023-06-08T13:57:03.802387Z"
    },
    "papermill": {
     "duration": 0.012326,
     "end_time": "2023-06-08T13:57:03.805000",
     "exception": false,
     "start_time": "2023-06-08T13:57:03.792674",
     "status": "completed"
    },
    "tags": []
   },
   "outputs": [],
   "source": [
    "#q3.hint()\n",
    "#q3.solution()"
   ]
  },
  {
   "cell_type": "markdown",
   "id": "e5176c1d",
   "metadata": {
    "papermill": {
     "duration": 0.004535,
     "end_time": "2023-06-08T13:57:03.814351",
     "exception": false,
     "start_time": "2023-06-08T13:57:03.809816",
     "status": "completed"
    },
    "tags": []
   },
   "source": [
    "## 4.\n",
    "What are the most common wine-producing regions? Create a Series counting the number of times each value occurs in the `region_1` field. This field is often missing data, so replace missing values with `Unknown`. Sort in descending order.  Your output should look something like this:\n",
    "\n",
    "```\n",
    "Unknown                    21247\n",
    "Napa Valley                 4480\n",
    "                           ...  \n",
    "Bardolino Superiore            1\n",
    "Primitivo del Tarantino        1\n",
    "Name: region_1, Length: 1230, dtype: int64\n",
    "```"
   ]
  },
  {
   "cell_type": "code",
   "execution_count": 8,
   "id": "7f71a9b7",
   "metadata": {
    "execution": {
     "iopub.execute_input": "2023-06-08T13:57:03.825910Z",
     "iopub.status.busy": "2023-06-08T13:57:03.825288Z",
     "iopub.status.idle": "2023-06-08T13:57:03.871738Z",
     "shell.execute_reply": "2023-06-08T13:57:03.870581Z"
    },
    "papermill": {
     "duration": 0.054952,
     "end_time": "2023-06-08T13:57:03.874040",
     "exception": false,
     "start_time": "2023-06-08T13:57:03.819088",
     "status": "completed"
    },
    "tags": []
   },
   "outputs": [
    {
     "data": {
      "application/javascript": [
       "parent.postMessage({\"jupyterEvent\": \"custom.exercise_interaction\", \"data\": {\"outcomeType\": 1, \"valueTowardsCompletion\": 0.25, \"interactionType\": 1, \"questionType\": 2, \"questionId\": \"4_ReviewsPerRegion\", \"learnToolsVersion\": \"0.3.4\", \"failureMessage\": \"\", \"exceptionClass\": \"\", \"trace\": \"\"}}, \"*\")"
      ],
      "text/plain": [
       "<IPython.core.display.Javascript object>"
      ]
     },
     "metadata": {},
     "output_type": "display_data"
    },
    {
     "data": {
      "text/markdown": [
       "<span style=\"color:#33cc33\">Correct</span>"
      ],
      "text/plain": [
       "Correct"
      ]
     },
     "metadata": {},
     "output_type": "display_data"
    }
   ],
   "source": [
    "reviews_per_region = reviews.region_1.fillna('Unknown').value_counts().sort_values(ascending=False)\n",
    "\n",
    "# Check your answer\n",
    "q4.check()"
   ]
  },
  {
   "cell_type": "code",
   "execution_count": 9,
   "id": "c5226f76",
   "metadata": {
    "execution": {
     "iopub.execute_input": "2023-06-08T13:57:03.886821Z",
     "iopub.status.busy": "2023-06-08T13:57:03.886113Z",
     "iopub.status.idle": "2023-06-08T13:57:03.890837Z",
     "shell.execute_reply": "2023-06-08T13:57:03.889810Z"
    },
    "papermill": {
     "duration": 0.013696,
     "end_time": "2023-06-08T13:57:03.892989",
     "exception": false,
     "start_time": "2023-06-08T13:57:03.879293",
     "status": "completed"
    },
    "tags": []
   },
   "outputs": [],
   "source": [
    "#q4.hint()\n",
    "#q4.solution()"
   ]
  },
  {
   "cell_type": "markdown",
   "id": "c6c73296",
   "metadata": {
    "papermill": {
     "duration": 0.004861,
     "end_time": "2023-06-08T13:57:03.902984",
     "exception": false,
     "start_time": "2023-06-08T13:57:03.898123",
     "status": "completed"
    },
    "tags": []
   },
   "source": [
    "# Keep going\n",
    "\n",
    "Move on to **[renaming and combining](https://www.kaggle.com/residentmario/renaming-and-combining)**."
   ]
  },
  {
   "cell_type": "markdown",
   "id": "94001182",
   "metadata": {
    "papermill": {
     "duration": 0.004906,
     "end_time": "2023-06-08T13:57:03.912930",
     "exception": false,
     "start_time": "2023-06-08T13:57:03.908024",
     "status": "completed"
    },
    "tags": []
   },
   "source": [
    "---\n",
    "\n",
    "\n",
    "\n",
    "\n",
    "*Have questions or comments? Visit the [course discussion forum](https://www.kaggle.com/learn/pandas/discussion) to chat with other learners.*"
   ]
  }
 ],
 "metadata": {
  "kernelspec": {
   "display_name": "Python 3",
   "language": "python",
   "name": "python3"
  },
  "language_info": {
   "codemirror_mode": {
    "name": "ipython",
    "version": 3
   },
   "file_extension": ".py",
   "mimetype": "text/x-python",
   "name": "python",
   "nbconvert_exporter": "python",
   "pygments_lexer": "ipython3",
   "version": "3.10.10"
  },
  "papermill": {
   "default_parameters": {},
   "duration": 14.57995,
   "end_time": "2023-06-08T13:57:04.739616",
   "environment_variables": {},
   "exception": null,
   "input_path": "__notebook__.ipynb",
   "output_path": "__notebook__.ipynb",
   "parameters": {},
   "start_time": "2023-06-08T13:56:50.159666",
   "version": "2.4.0"
  }
 },
 "nbformat": 4,
 "nbformat_minor": 5
}
