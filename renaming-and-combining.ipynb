{
 "cells": [
  {
   "cell_type": "markdown",
   "id": "6b4fe288",
   "metadata": {
    "papermill": {
     "duration": 0.007188,
     "end_time": "2023-06-08T14:02:47.927899",
     "exception": false,
     "start_time": "2023-06-08T14:02:47.920711",
     "status": "completed"
    },
    "tags": []
   },
   "source": [
    "**This notebook is an exercise in the [Pandas](https://www.kaggle.com/learn/pandas) course.  You can reference the tutorial at [this link](https://www.kaggle.com/residentmario/renaming-and-combining).**\n",
    "\n",
    "---\n"
   ]
  },
  {
   "cell_type": "markdown",
   "id": "fdeff021",
   "metadata": {
    "papermill": {
     "duration": 0.006379,
     "end_time": "2023-06-08T14:02:47.941281",
     "exception": false,
     "start_time": "2023-06-08T14:02:47.934902",
     "status": "completed"
    },
    "tags": []
   },
   "source": [
    "# Introduction\n",
    "\n",
    "Run the following cell to load your data and some utility functions."
   ]
  },
  {
   "cell_type": "code",
   "execution_count": 1,
   "id": "bc005280",
   "metadata": {
    "execution": {
     "iopub.execute_input": "2023-06-08T14:02:47.956464Z",
     "iopub.status.busy": "2023-06-08T14:02:47.956081Z",
     "iopub.status.idle": "2023-06-08T14:02:52.840986Z",
     "shell.execute_reply": "2023-06-08T14:02:52.839736Z"
    },
    "papermill": {
     "duration": 4.895562,
     "end_time": "2023-06-08T14:02:52.843392",
     "exception": false,
     "start_time": "2023-06-08T14:02:47.947830",
     "status": "completed"
    },
    "tags": []
   },
   "outputs": [
    {
     "name": "stdout",
     "output_type": "stream",
     "text": [
      "Setup complete.\n"
     ]
    }
   ],
   "source": [
    "import pandas as pd\n",
    "\n",
    "reviews = pd.read_csv(\"../input/wine-reviews/winemag-data-130k-v2.csv\", index_col=0)\n",
    "\n",
    "from learntools.core import binder; binder.bind(globals())\n",
    "from learntools.pandas.renaming_and_combining import *\n",
    "print(\"Setup complete.\")"
   ]
  },
  {
   "cell_type": "markdown",
   "id": "6dc199ef",
   "metadata": {
    "papermill": {
     "duration": 0.006517,
     "end_time": "2023-06-08T14:02:52.856867",
     "exception": false,
     "start_time": "2023-06-08T14:02:52.850350",
     "status": "completed"
    },
    "tags": []
   },
   "source": [
    "# Exercises\n",
    "\n",
    "View the first several lines of your data by running the cell below:"
   ]
  },
  {
   "cell_type": "code",
   "execution_count": 2,
   "id": "6200a771",
   "metadata": {
    "execution": {
     "iopub.execute_input": "2023-06-08T14:02:52.871967Z",
     "iopub.status.busy": "2023-06-08T14:02:52.871612Z",
     "iopub.status.idle": "2023-06-08T14:02:52.904427Z",
     "shell.execute_reply": "2023-06-08T14:02:52.903193Z"
    },
    "papermill": {
     "duration": 0.04339,
     "end_time": "2023-06-08T14:02:52.906814",
     "exception": false,
     "start_time": "2023-06-08T14:02:52.863424",
     "status": "completed"
    },
    "tags": []
   },
   "outputs": [
    {
     "data": {
      "text/html": [
       "<div>\n",
       "<style scoped>\n",
       "    .dataframe tbody tr th:only-of-type {\n",
       "        vertical-align: middle;\n",
       "    }\n",
       "\n",
       "    .dataframe tbody tr th {\n",
       "        vertical-align: top;\n",
       "    }\n",
       "\n",
       "    .dataframe thead th {\n",
       "        text-align: right;\n",
       "    }\n",
       "</style>\n",
       "<table border=\"1\" class=\"dataframe\">\n",
       "  <thead>\n",
       "    <tr style=\"text-align: right;\">\n",
       "      <th></th>\n",
       "      <th>country</th>\n",
       "      <th>description</th>\n",
       "      <th>designation</th>\n",
       "      <th>points</th>\n",
       "      <th>price</th>\n",
       "      <th>province</th>\n",
       "      <th>region_1</th>\n",
       "      <th>region_2</th>\n",
       "      <th>taster_name</th>\n",
       "      <th>taster_twitter_handle</th>\n",
       "      <th>title</th>\n",
       "      <th>variety</th>\n",
       "      <th>winery</th>\n",
       "    </tr>\n",
       "  </thead>\n",
       "  <tbody>\n",
       "    <tr>\n",
       "      <th>0</th>\n",
       "      <td>Italy</td>\n",
       "      <td>Aromas include tropical fruit, broom, brimston...</td>\n",
       "      <td>Vulkà Bianco</td>\n",
       "      <td>87</td>\n",
       "      <td>NaN</td>\n",
       "      <td>Sicily &amp; Sardinia</td>\n",
       "      <td>Etna</td>\n",
       "      <td>NaN</td>\n",
       "      <td>Kerin O’Keefe</td>\n",
       "      <td>@kerinokeefe</td>\n",
       "      <td>Nicosia 2013 Vulkà Bianco  (Etna)</td>\n",
       "      <td>White Blend</td>\n",
       "      <td>Nicosia</td>\n",
       "    </tr>\n",
       "    <tr>\n",
       "      <th>1</th>\n",
       "      <td>Portugal</td>\n",
       "      <td>This is ripe and fruity, a wine that is smooth...</td>\n",
       "      <td>Avidagos</td>\n",
       "      <td>87</td>\n",
       "      <td>15.0</td>\n",
       "      <td>Douro</td>\n",
       "      <td>NaN</td>\n",
       "      <td>NaN</td>\n",
       "      <td>Roger Voss</td>\n",
       "      <td>@vossroger</td>\n",
       "      <td>Quinta dos Avidagos 2011 Avidagos Red (Douro)</td>\n",
       "      <td>Portuguese Red</td>\n",
       "      <td>Quinta dos Avidagos</td>\n",
       "    </tr>\n",
       "    <tr>\n",
       "      <th>2</th>\n",
       "      <td>US</td>\n",
       "      <td>Tart and snappy, the flavors of lime flesh and...</td>\n",
       "      <td>NaN</td>\n",
       "      <td>87</td>\n",
       "      <td>14.0</td>\n",
       "      <td>Oregon</td>\n",
       "      <td>Willamette Valley</td>\n",
       "      <td>Willamette Valley</td>\n",
       "      <td>Paul Gregutt</td>\n",
       "      <td>@paulgwine</td>\n",
       "      <td>Rainstorm 2013 Pinot Gris (Willamette Valley)</td>\n",
       "      <td>Pinot Gris</td>\n",
       "      <td>Rainstorm</td>\n",
       "    </tr>\n",
       "    <tr>\n",
       "      <th>3</th>\n",
       "      <td>US</td>\n",
       "      <td>Pineapple rind, lemon pith and orange blossom ...</td>\n",
       "      <td>Reserve Late Harvest</td>\n",
       "      <td>87</td>\n",
       "      <td>13.0</td>\n",
       "      <td>Michigan</td>\n",
       "      <td>Lake Michigan Shore</td>\n",
       "      <td>NaN</td>\n",
       "      <td>Alexander Peartree</td>\n",
       "      <td>NaN</td>\n",
       "      <td>St. Julian 2013 Reserve Late Harvest Riesling ...</td>\n",
       "      <td>Riesling</td>\n",
       "      <td>St. Julian</td>\n",
       "    </tr>\n",
       "    <tr>\n",
       "      <th>4</th>\n",
       "      <td>US</td>\n",
       "      <td>Much like the regular bottling from 2012, this...</td>\n",
       "      <td>Vintner's Reserve Wild Child Block</td>\n",
       "      <td>87</td>\n",
       "      <td>65.0</td>\n",
       "      <td>Oregon</td>\n",
       "      <td>Willamette Valley</td>\n",
       "      <td>Willamette Valley</td>\n",
       "      <td>Paul Gregutt</td>\n",
       "      <td>@paulgwine</td>\n",
       "      <td>Sweet Cheeks 2012 Vintner's Reserve Wild Child...</td>\n",
       "      <td>Pinot Noir</td>\n",
       "      <td>Sweet Cheeks</td>\n",
       "    </tr>\n",
       "  </tbody>\n",
       "</table>\n",
       "</div>"
      ],
      "text/plain": [
       "    country                                        description  \\\n",
       "0     Italy  Aromas include tropical fruit, broom, brimston...   \n",
       "1  Portugal  This is ripe and fruity, a wine that is smooth...   \n",
       "2        US  Tart and snappy, the flavors of lime flesh and...   \n",
       "3        US  Pineapple rind, lemon pith and orange blossom ...   \n",
       "4        US  Much like the regular bottling from 2012, this...   \n",
       "\n",
       "                          designation  points  price           province  \\\n",
       "0                        Vulkà Bianco      87    NaN  Sicily & Sardinia   \n",
       "1                            Avidagos      87   15.0              Douro   \n",
       "2                                 NaN      87   14.0             Oregon   \n",
       "3                Reserve Late Harvest      87   13.0           Michigan   \n",
       "4  Vintner's Reserve Wild Child Block      87   65.0             Oregon   \n",
       "\n",
       "              region_1           region_2         taster_name  \\\n",
       "0                 Etna                NaN       Kerin O’Keefe   \n",
       "1                  NaN                NaN          Roger Voss   \n",
       "2    Willamette Valley  Willamette Valley        Paul Gregutt   \n",
       "3  Lake Michigan Shore                NaN  Alexander Peartree   \n",
       "4    Willamette Valley  Willamette Valley        Paul Gregutt   \n",
       "\n",
       "  taster_twitter_handle                                              title  \\\n",
       "0          @kerinokeefe                  Nicosia 2013 Vulkà Bianco  (Etna)   \n",
       "1            @vossroger      Quinta dos Avidagos 2011 Avidagos Red (Douro)   \n",
       "2           @paulgwine       Rainstorm 2013 Pinot Gris (Willamette Valley)   \n",
       "3                   NaN  St. Julian 2013 Reserve Late Harvest Riesling ...   \n",
       "4           @paulgwine   Sweet Cheeks 2012 Vintner's Reserve Wild Child...   \n",
       "\n",
       "          variety               winery  \n",
       "0     White Blend              Nicosia  \n",
       "1  Portuguese Red  Quinta dos Avidagos  \n",
       "2      Pinot Gris            Rainstorm  \n",
       "3        Riesling           St. Julian  \n",
       "4      Pinot Noir         Sweet Cheeks  "
      ]
     },
     "execution_count": 2,
     "metadata": {},
     "output_type": "execute_result"
    }
   ],
   "source": [
    "reviews.head()"
   ]
  },
  {
   "cell_type": "markdown",
   "id": "f07d7460",
   "metadata": {
    "papermill": {
     "duration": 0.00694,
     "end_time": "2023-06-08T14:02:52.922590",
     "exception": false,
     "start_time": "2023-06-08T14:02:52.915650",
     "status": "completed"
    },
    "tags": []
   },
   "source": [
    "## 1.\n",
    "`region_1` and `region_2` are pretty uninformative names for locale columns in the dataset. Create a copy of `reviews` with these columns renamed to `region` and `locale`, respectively."
   ]
  },
  {
   "cell_type": "code",
   "execution_count": 3,
   "id": "62f895e6",
   "metadata": {
    "execution": {
     "iopub.execute_input": "2023-06-08T14:02:52.939579Z",
     "iopub.status.busy": "2023-06-08T14:02:52.939120Z",
     "iopub.status.idle": "2023-06-08T14:02:52.961612Z",
     "shell.execute_reply": "2023-06-08T14:02:52.960469Z"
    },
    "papermill": {
     "duration": 0.033402,
     "end_time": "2023-06-08T14:02:52.963844",
     "exception": false,
     "start_time": "2023-06-08T14:02:52.930442",
     "status": "completed"
    },
    "tags": []
   },
   "outputs": [
    {
     "data": {
      "application/javascript": [
       "parent.postMessage({\"jupyterEvent\": \"custom.exercise_interaction\", \"data\": {\"outcomeType\": 1, \"valueTowardsCompletion\": 0.25, \"interactionType\": 1, \"questionType\": 1, \"questionId\": \"1_RenameCols\", \"learnToolsVersion\": \"0.3.4\", \"failureMessage\": \"\", \"exceptionClass\": \"\", \"trace\": \"\"}}, \"*\")"
      ],
      "text/plain": [
       "<IPython.core.display.Javascript object>"
      ]
     },
     "metadata": {},
     "output_type": "display_data"
    },
    {
     "data": {
      "text/markdown": [
       "<span style=\"color:#33cc33\">Correct</span>"
      ],
      "text/plain": [
       "Correct"
      ]
     },
     "metadata": {},
     "output_type": "display_data"
    }
   ],
   "source": [
    "# Your code here\n",
    "renamed = reviews.rename(columns=dict(region_1='region', region_2='locale'))\n",
    "\n",
    "# Check your answer\n",
    "q1.check()"
   ]
  },
  {
   "cell_type": "code",
   "execution_count": 4,
   "id": "4c2a9613",
   "metadata": {
    "execution": {
     "iopub.execute_input": "2023-06-08T14:02:52.981981Z",
     "iopub.status.busy": "2023-06-08T14:02:52.980681Z",
     "iopub.status.idle": "2023-06-08T14:02:52.990378Z",
     "shell.execute_reply": "2023-06-08T14:02:52.989337Z"
    },
    "papermill": {
     "duration": 0.021097,
     "end_time": "2023-06-08T14:02:52.992624",
     "exception": false,
     "start_time": "2023-06-08T14:02:52.971527",
     "status": "completed"
    },
    "tags": []
   },
   "outputs": [
    {
     "data": {
      "application/javascript": [
       "parent.postMessage({\"jupyterEvent\": \"custom.exercise_interaction\", \"data\": {\"interactionType\": 3, \"questionType\": 1, \"questionId\": \"1_RenameCols\", \"learnToolsVersion\": \"0.3.4\", \"valueTowardsCompletion\": 0.0, \"failureMessage\": \"\", \"exceptionClass\": \"\", \"trace\": \"\", \"outcomeType\": 4}}, \"*\")"
      ],
      "text/plain": [
       "<IPython.core.display.Javascript object>"
      ]
     },
     "metadata": {},
     "output_type": "display_data"
    },
    {
     "data": {
      "text/markdown": [
       "<span style=\"color:#33cc99\">Solution:</span> \n",
       "```python\n",
       "renamed = reviews.rename(columns=dict(region_1='region', region_2='locale'))\n",
       "```"
      ],
      "text/plain": [
       "Solution: \n",
       "```python\n",
       "renamed = reviews.rename(columns=dict(region_1='region', region_2='locale'))\n",
       "```"
      ]
     },
     "metadata": {},
     "output_type": "display_data"
    }
   ],
   "source": [
    "#q1.hint()\n",
    "q1.solution()"
   ]
  },
  {
   "cell_type": "markdown",
   "id": "085ade5e",
   "metadata": {
    "papermill": {
     "duration": 0.007913,
     "end_time": "2023-06-08T14:02:53.008626",
     "exception": false,
     "start_time": "2023-06-08T14:02:53.000713",
     "status": "completed"
    },
    "tags": []
   },
   "source": [
    "## 2.\n",
    "Set the index name in the dataset to `wines`."
   ]
  },
  {
   "cell_type": "code",
   "execution_count": 5,
   "id": "5e0b8718",
   "metadata": {
    "execution": {
     "iopub.execute_input": "2023-06-08T14:02:53.026555Z",
     "iopub.status.busy": "2023-06-08T14:02:53.026148Z",
     "iopub.status.idle": "2023-06-08T14:02:53.047016Z",
     "shell.execute_reply": "2023-06-08T14:02:53.045913Z"
    },
    "papermill": {
     "duration": 0.032815,
     "end_time": "2023-06-08T14:02:53.049499",
     "exception": false,
     "start_time": "2023-06-08T14:02:53.016684",
     "status": "completed"
    },
    "tags": []
   },
   "outputs": [
    {
     "data": {
      "application/javascript": [
       "parent.postMessage({\"jupyterEvent\": \"custom.exercise_interaction\", \"data\": {\"outcomeType\": 1, \"valueTowardsCompletion\": 0.25, \"interactionType\": 1, \"questionType\": 1, \"questionId\": \"2_RenameIndex\", \"learnToolsVersion\": \"0.3.4\", \"failureMessage\": \"\", \"exceptionClass\": \"\", \"trace\": \"\"}}, \"*\")"
      ],
      "text/plain": [
       "<IPython.core.display.Javascript object>"
      ]
     },
     "metadata": {},
     "output_type": "display_data"
    },
    {
     "data": {
      "text/markdown": [
       "<span style=\"color:#33cc33\">Correct</span>"
      ],
      "text/plain": [
       "Correct"
      ]
     },
     "metadata": {},
     "output_type": "display_data"
    }
   ],
   "source": [
    "reindexed = reviews.rename_axis('wines', axis='rows')\n",
    "\n",
    "# Check your answer\n",
    "q2.check()"
   ]
  },
  {
   "cell_type": "code",
   "execution_count": 6,
   "id": "601b26a1",
   "metadata": {
    "execution": {
     "iopub.execute_input": "2023-06-08T14:02:53.067788Z",
     "iopub.status.busy": "2023-06-08T14:02:53.067377Z",
     "iopub.status.idle": "2023-06-08T14:02:53.072259Z",
     "shell.execute_reply": "2023-06-08T14:02:53.071128Z"
    },
    "papermill": {
     "duration": 0.01663,
     "end_time": "2023-06-08T14:02:53.074465",
     "exception": false,
     "start_time": "2023-06-08T14:02:53.057835",
     "status": "completed"
    },
    "tags": []
   },
   "outputs": [],
   "source": [
    "#q2.hint()\n",
    "#q2.solution()"
   ]
  },
  {
   "cell_type": "markdown",
   "id": "4bebd802",
   "metadata": {
    "papermill": {
     "duration": 0.007977,
     "end_time": "2023-06-08T14:02:53.090872",
     "exception": false,
     "start_time": "2023-06-08T14:02:53.082895",
     "status": "completed"
    },
    "tags": []
   },
   "source": [
    "## 3.\n",
    "The [Things on Reddit](https://www.kaggle.com/residentmario/things-on-reddit/data) dataset includes product links from a selection of top-ranked forums (\"subreddits\") on reddit.com. Run the cell below to load a dataframe of products mentioned on the */r/gaming* subreddit and another dataframe for products mentioned on the *r//movies* subreddit."
   ]
  },
  {
   "cell_type": "code",
   "execution_count": 7,
   "id": "36dabac5",
   "metadata": {
    "execution": {
     "iopub.execute_input": "2023-06-08T14:02:53.109277Z",
     "iopub.status.busy": "2023-06-08T14:02:53.108837Z",
     "iopub.status.idle": "2023-06-08T14:02:53.127392Z",
     "shell.execute_reply": "2023-06-08T14:02:53.126314Z"
    },
    "papermill": {
     "duration": 0.030978,
     "end_time": "2023-06-08T14:02:53.130114",
     "exception": false,
     "start_time": "2023-06-08T14:02:53.099136",
     "status": "completed"
    },
    "tags": []
   },
   "outputs": [],
   "source": [
    "gaming_products = pd.read_csv(\"../input/things-on-reddit/top-things/top-things/reddits/g/gaming.csv\")\n",
    "gaming_products['subreddit'] = \"r/gaming\"\n",
    "movie_products = pd.read_csv(\"../input/things-on-reddit/top-things/top-things/reddits/m/movies.csv\")\n",
    "movie_products['subreddit'] = \"r/movies\""
   ]
  },
  {
   "cell_type": "markdown",
   "id": "881c3814",
   "metadata": {
    "papermill": {
     "duration": 0.00813,
     "end_time": "2023-06-08T14:02:53.146668",
     "exception": false,
     "start_time": "2023-06-08T14:02:53.138538",
     "status": "completed"
    },
    "tags": []
   },
   "source": [
    "Create a `DataFrame` of products mentioned on *either* subreddit."
   ]
  },
  {
   "cell_type": "code",
   "execution_count": 8,
   "id": "7491a060",
   "metadata": {
    "execution": {
     "iopub.execute_input": "2023-06-08T14:02:53.164748Z",
     "iopub.status.busy": "2023-06-08T14:02:53.164357Z",
     "iopub.status.idle": "2023-06-08T14:02:53.177141Z",
     "shell.execute_reply": "2023-06-08T14:02:53.176072Z"
    },
    "papermill": {
     "duration": 0.024607,
     "end_time": "2023-06-08T14:02:53.179443",
     "exception": false,
     "start_time": "2023-06-08T14:02:53.154836",
     "status": "completed"
    },
    "tags": []
   },
   "outputs": [
    {
     "data": {
      "application/javascript": [
       "parent.postMessage({\"jupyterEvent\": \"custom.exercise_interaction\", \"data\": {\"outcomeType\": 1, \"valueTowardsCompletion\": 0.25, \"interactionType\": 1, \"questionType\": 2, \"questionId\": \"3_ConcatReddit\", \"learnToolsVersion\": \"0.3.4\", \"failureMessage\": \"\", \"exceptionClass\": \"\", \"trace\": \"\"}}, \"*\")"
      ],
      "text/plain": [
       "<IPython.core.display.Javascript object>"
      ]
     },
     "metadata": {},
     "output_type": "display_data"
    },
    {
     "data": {
      "text/markdown": [
       "<span style=\"color:#33cc33\">Correct</span>"
      ],
      "text/plain": [
       "Correct"
      ]
     },
     "metadata": {},
     "output_type": "display_data"
    }
   ],
   "source": [
    "combined_products = pd.concat([gaming_products, movie_products])\n",
    "\n",
    "# Check your answer\n",
    "q3.check()"
   ]
  },
  {
   "cell_type": "code",
   "execution_count": 9,
   "id": "720fe351",
   "metadata": {
    "execution": {
     "iopub.execute_input": "2023-06-08T14:02:53.198466Z",
     "iopub.status.busy": "2023-06-08T14:02:53.198075Z",
     "iopub.status.idle": "2023-06-08T14:02:53.201839Z",
     "shell.execute_reply": "2023-06-08T14:02:53.201088Z"
    },
    "papermill": {
     "duration": 0.015799,
     "end_time": "2023-06-08T14:02:53.203844",
     "exception": false,
     "start_time": "2023-06-08T14:02:53.188045",
     "status": "completed"
    },
    "tags": []
   },
   "outputs": [],
   "source": [
    "#q3.hint()\n",
    "#q3.solution()"
   ]
  },
  {
   "cell_type": "markdown",
   "id": "3d468db8",
   "metadata": {
    "papermill": {
     "duration": 0.008297,
     "end_time": "2023-06-08T14:02:53.220941",
     "exception": false,
     "start_time": "2023-06-08T14:02:53.212644",
     "status": "completed"
    },
    "tags": []
   },
   "source": [
    "## 4.\n",
    "The [Powerlifting Database](https://www.kaggle.com/open-powerlifting/powerlifting-database) dataset on Kaggle includes one CSV table for powerlifting meets and a separate one for powerlifting competitors. Run the cell below to load these datasets into dataframes:"
   ]
  },
  {
   "cell_type": "code",
   "execution_count": 10,
   "id": "7278766b",
   "metadata": {
    "execution": {
     "iopub.execute_input": "2023-06-08T14:02:53.240353Z",
     "iopub.status.busy": "2023-06-08T14:02:53.239911Z",
     "iopub.status.idle": "2023-06-08T14:02:54.200920Z",
     "shell.execute_reply": "2023-06-08T14:02:54.200084Z"
    },
    "papermill": {
     "duration": 0.973848,
     "end_time": "2023-06-08T14:02:54.203536",
     "exception": false,
     "start_time": "2023-06-08T14:02:53.229688",
     "status": "completed"
    },
    "tags": []
   },
   "outputs": [],
   "source": [
    "powerlifting_meets = pd.read_csv(\"../input/powerlifting-database/meets.csv\")\n",
    "powerlifting_competitors = pd.read_csv(\"../input/powerlifting-database/openpowerlifting.csv\")"
   ]
  },
  {
   "cell_type": "markdown",
   "id": "ae1acdac",
   "metadata": {
    "papermill": {
     "duration": 0.008452,
     "end_time": "2023-06-08T14:02:54.220849",
     "exception": false,
     "start_time": "2023-06-08T14:02:54.212397",
     "status": "completed"
    },
    "tags": []
   },
   "source": [
    "Both tables include references to a `MeetID`, a unique key for each meet (competition) included in the database. Using this, generate a dataset combining the two tables into one."
   ]
  },
  {
   "cell_type": "code",
   "execution_count": 11,
   "id": "3225d479",
   "metadata": {
    "execution": {
     "iopub.execute_input": "2023-06-08T14:02:54.240116Z",
     "iopub.status.busy": "2023-06-08T14:02:54.239489Z",
     "iopub.status.idle": "2023-06-08T14:02:55.566855Z",
     "shell.execute_reply": "2023-06-08T14:02:55.565822Z"
    },
    "papermill": {
     "duration": 1.340041,
     "end_time": "2023-06-08T14:02:55.569442",
     "exception": false,
     "start_time": "2023-06-08T14:02:54.229401",
     "status": "completed"
    },
    "tags": []
   },
   "outputs": [
    {
     "data": {
      "application/javascript": [
       "parent.postMessage({\"jupyterEvent\": \"custom.exercise_interaction\", \"data\": {\"outcomeType\": 1, \"valueTowardsCompletion\": 0.25, \"interactionType\": 1, \"questionType\": 2, \"questionId\": \"4_JoinLifting\", \"learnToolsVersion\": \"0.3.4\", \"failureMessage\": \"\", \"exceptionClass\": \"\", \"trace\": \"\"}}, \"*\")"
      ],
      "text/plain": [
       "<IPython.core.display.Javascript object>"
      ]
     },
     "metadata": {},
     "output_type": "display_data"
    },
    {
     "data": {
      "text/markdown": [
       "<span style=\"color:#33cc33\">Correct</span>"
      ],
      "text/plain": [
       "Correct"
      ]
     },
     "metadata": {},
     "output_type": "display_data"
    }
   ],
   "source": [
    "powerlifting_combined = powerlifting_meets.set_index(\"MeetID\").join(powerlifting_competitors.set_index(\"MeetID\"))\n",
    "\n",
    "# Check your answer\n",
    "q4.check()"
   ]
  },
  {
   "cell_type": "code",
   "execution_count": 12,
   "id": "8920fcc7",
   "metadata": {
    "execution": {
     "iopub.execute_input": "2023-06-08T14:02:55.589501Z",
     "iopub.status.busy": "2023-06-08T14:02:55.588555Z",
     "iopub.status.idle": "2023-06-08T14:02:55.593337Z",
     "shell.execute_reply": "2023-06-08T14:02:55.592387Z"
    },
    "papermill": {
     "duration": 0.017431,
     "end_time": "2023-06-08T14:02:55.595814",
     "exception": false,
     "start_time": "2023-06-08T14:02:55.578383",
     "status": "completed"
    },
    "tags": []
   },
   "outputs": [],
   "source": [
    "#q4.hint()\n",
    "#q4.solution()"
   ]
  },
  {
   "cell_type": "markdown",
   "id": "bb4d67ab",
   "metadata": {
    "papermill": {
     "duration": 0.008509,
     "end_time": "2023-06-08T14:02:55.613054",
     "exception": false,
     "start_time": "2023-06-08T14:02:55.604545",
     "status": "completed"
    },
    "tags": []
   },
   "source": [
    "# Congratulations!\n",
    "\n",
    "You've finished the Pandas micro-course.  Many data scientists feel efficiency with Pandas is the most useful and practical skill they have, because it allows you to progress quickly in any project you have.\n",
    "\n",
    "If you'd like to apply your new skills to examining geospatial data, you're encouraged to check out our **[Geospatial Analysis](https://www.kaggle.com/learn/geospatial-analysis)** micro-course.\n",
    "\n",
    "You can also take advantage of your Pandas skills by entering a **[Kaggle Competition](https://www.kaggle.com/competitions)** or by answering a question you find interesting using **[Kaggle Datasets](https://www.kaggle.com/datasets)**."
   ]
  },
  {
   "cell_type": "markdown",
   "id": "3310c163",
   "metadata": {
    "papermill": {
     "duration": 0.008398,
     "end_time": "2023-06-08T14:02:55.630005",
     "exception": false,
     "start_time": "2023-06-08T14:02:55.621607",
     "status": "completed"
    },
    "tags": []
   },
   "source": [
    "---\n",
    "\n",
    "\n",
    "\n",
    "\n",
    "*Have questions or comments? Visit the [course discussion forum](https://www.kaggle.com/learn/pandas/discussion) to chat with other learners.*"
   ]
  }
 ],
 "metadata": {
  "kernelspec": {
   "display_name": "Python 3",
   "language": "python",
   "name": "python3"
  },
  "language_info": {
   "codemirror_mode": {
    "name": "ipython",
    "version": 3
   },
   "file_extension": ".py",
   "mimetype": "text/x-python",
   "name": "python",
   "nbconvert_exporter": "python",
   "pygments_lexer": "ipython3",
   "version": "3.10.10"
  },
  "papermill": {
   "default_parameters": {},
   "duration": 20.628733,
   "end_time": "2023-06-08T14:02:56.660968",
   "environment_variables": {},
   "exception": null,
   "input_path": "__notebook__.ipynb",
   "output_path": "__notebook__.ipynb",
   "parameters": {},
   "start_time": "2023-06-08T14:02:36.032235",
   "version": "2.4.0"
  }
 },
 "nbformat": 4,
 "nbformat_minor": 5
}
